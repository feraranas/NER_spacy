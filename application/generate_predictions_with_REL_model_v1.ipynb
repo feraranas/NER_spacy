{
 "cells": [
  {
   "cell_type": "code",
   "execution_count": 1,
   "metadata": {},
   "outputs": [],
   "source": [
    "import typer\n",
    "import spacy\n",
    "import srsly\n",
    "import pandas as pd\n",
    "from spacy.tokens import DocBin, Doc, Span\n",
    "from spacy.training.example import Example\n",
    "import random\n",
    "import tqdm"
   ]
  },
  {
   "cell_type": "code",
   "execution_count": 2,
   "metadata": {},
   "outputs": [],
   "source": [
    "# make the factory work\n",
    "from rel_pipe import make_relation_extractor, score_relations\n",
    "\n",
    "# make the config work\n",
    "from rel_model import create_relation_model, create_classification_layer, create_instances, create_tensors"
   ]
  },
  {
   "cell_type": "code",
   "execution_count": 3,
   "metadata": {},
   "outputs": [],
   "source": [
    "# Load the pre-trained model\n",
    "nlp = spacy.load(\"../training/model-best\")"
   ]
  },
  {
   "cell_type": "code",
   "execution_count": 4,
   "metadata": {},
   "outputs": [
    {
     "name": "stdout",
     "output_type": "stream",
     "text": [
      "\u001b[38;5;4mℹ Could not determine any instances in doc - returning doc as is.\u001b[0m\n",
      "\u001b[38;5;4mℹ Could not determine any instances in doc - returning doc as is.\u001b[0m\n",
      "\u001b[38;5;4mℹ Could not determine any instances in doc - returning doc as is.\u001b[0m\n"
     ]
    }
   ],
   "source": [
    "# Load the jsonl data to predict\n",
    "data = srsly.read_jsonl(\"../assets/goldenV3.jsonl\")\n",
    "data_instances = [eg[\"text\"] for eg in data]\n",
    "\n",
    "# Represent data via DocBin [list of docs]\n",
    "db = DocBin()\n",
    "for text in data_instances:\n",
    "     db.add(nlp(text))\n",
    "     # doc = nlp.make_doc(text)\n",
    "     # db.add(doc)\n",
    "\n",
    "# db.to_disk(\"../data/predictv2.spacy\")"
   ]
  },
  {
   "cell_type": "code",
   "execution_count": 5,
   "metadata": {},
   "outputs": [
    {
     "name": "stdout",
     "output_type": "stream",
     "text": [
      "(The Associate Security Analyst supports security systems, operations administration, monitoring and maintenance of cyber security systems and applications. He/She monitors security alerts and events. He collects and documents information based on established practices and supports the preparation and publishing of security advisories. He assists with the analysis of security-related information and events, escalation of incidents for validation and remediation. He is required to be on standby with on-call availability with varied shifts including nights, weekends and holidays. He is familiar with cyber security standards, protocols and frameworks, and is required to act in accordance with the Cyber Security Act 2018. He is knowledgeable in using various cyber security tools and techniques to monitor and resolve incidents. The Associate Security Analyst is alert and vigilant in performing monitoring activities and is able to analyse and resolve security-related issues critically. He communicates clearly in his interactions with others and coordinates effectively with his team to perform security operations.,)\n",
      "(function., She acts, enforcement of organisation, executives on, regulatory inquiries, well as the, abreast of, technologies and, technologies that, well protected and secured.)\n",
      "(She monitors, tracks and manages risk, established. He, techniques depending, enjoys analysing, well both)\n",
      "(control requirements, She manages, regulatory inquiries, ensures cyber, established and implemented., employees and, held accountable, ensures the, techniques depending, anticipate problems, time., communicator who, well with, environment and relationships within, beyond his)\n",
      "(She is, ensures the, diligent and, confident leader)\n",
      "(She is, diligent and, takes an, confident in putting, forth creative mitigation plans and solutions to mitigate security incidents.)\n",
      "(event of, techniques and, well as develops, ensures the, techniques to, diligent and)\n",
      "(loss or breach, She identifies, control failures., techniques to, thoughts and engages with)\n",
      "(leads unique, She plans, leads the, long-, term impact. He is an expert in cyber, ensures the, technologies and, enjoys identifying)\n",
      "(time analysis, She maintains, user incident reports, techniques., diligent and, takes an, time analyses, confident in putting, forth creative mitigation plans and solutions to security)\n",
      "(She provides, technologies and, concepts and works, enhancing the resilience of, existing security programs, control., ensures the, techniques., diligent and, confident leader)\n",
      "(She embeds, technologies and, well versed with, technologies and, well with)\n",
      "(She is, prone to cyber, techniques to, clearly in)\n",
      "(She translates, well versed with, well in a team and)\n",
      "(certification services, She reports, expectations., ensures compliance, well versed with)\n",
      "(She focuses, algorithms for, time,, experiments to, individual who, enjoys the)\n",
      "(She presents, forums.)\n",
      "(tactical operations, She holds, historical data sourcing, techniques required)\n",
      "(She supervises, techniques required, well as the)\n",
      "(framework,, She is, environment. He)\n",
      "(historical data from, She uses, tasks,, techniques required, enjoys working, learn.)\n",
      "(She plans, user experience, external clients,)\n",
      "(flow channels, time processing, She focuses, those into, turn information)\n",
      "(leads the, techniques,, She identifies, environments, explores and visualises complex data set to, algorithms suitable)\n",
      "(She guides, algorithms and, communicator,, individual,, environment. He, ensures compliance, framework,)\n",
      "(ensures communication, She is, techniques or, algorithms used, beyond the team.)\n",
      "(flow channels, time processing, She assists, scientists with, forth his)\n",
      "(Infrastructure Engineer, She supports, takes appropriate corrective, experience across, Infrastructure Engineer, well with, external stakeholders.)\n",
      "(She assists, troubleshooting and testing, configures network components, ensures that, technologies and, rotational on, well in a fast-paced environment)\n",
      "(She configures, ensures that, technologies,, enjoys problem, troubleshooting., well in teams, tasks effectively)\n",
      "(She formulates, slices in alignment with, configures,, algorithms,, human intervention., technologies and, experience in managing, environment. He, well with, external stakeholders,, slices., mindset in quality)\n",
      "(Infrastructure establishes, transition the, She advices, well as capabilities and constraints of, environment. He, technologies are, expectations., well as product, technologies,, well as cloud, Infrastructure is, external stakeholders.)\n",
      "(Infrastructure Architect, She defines, current and future, current technology, environment,, user challenges to inform architecture, well as plans, existing infrastructure. He, ensures transition, current business, user requirements to, technologies,, well as cloud, Infrastructure Architect)\n",
      "(Infrastructure Engineer, She performs, troubleshooting issues, executing upgrades, Infrastructure Engineer, takes a critical)\n",
      "(Infrastructure Engineering, She manages, expectations., functional teams, Infrastructure Engineering, well to his)\n",
      "(technologies from, She manages, configures network equipment, G,, rotational on, troubleshooting skills., technologies,, environments.)\n",
      "(She installs, technologies and)\n",
      "(efficiency of systems, She optimises, tasks,, well as enabling, ensures security, well with, external stakeholders., enjoys hands, individual who)\n",
      "(leads the, function and, She develops, leads important, function., functions alignment, commitment for)\n",
      "(She should, transition processes, techniques required)\n",
      "(She should, transition,, techniques required)\n",
      "(She monitors, troubleshooting of, concepts and database management, techniques.)\n",
      "(technologies and, She ensures, well as installing, control., techniques.)\n",
      "(Infrastructure Support, She assists, existing systems, techniques required, Infrastructure Support)\n",
      "(She analyses, troubleshooting and incident response, techniques required)\n",
      "(She ensures, event of, failures/breakdowns, techniques required)\n",
      "(cable patching, She manages, troubleshooting of, little precedence whenever, concepts and database management, techniques required)\n",
      "(She applies, techniques required)\n",
      "(functions., She sets, formulating strategies, ensures compliance, commitment to, external stakeholders., functions overall, continuously improve)\n",
      "(Infrastructure Support, She assists, follows procedures,, takes appropriate corrective, Infrastructure systems, techniques required, Infrastructure Support)\n",
      "(function., She focuses, term consequences, function and, along with, liaises with, term planning, environment and its critical)\n",
      "(She is, techniques required)\n",
      "(well as monitoring, She applies, Infrastructure systems, techniques required)\n",
      "(She gathers, externally and, techniques as, confident in communicating)\n",
      "(executing the, She supports, user testing, concepts and drawings stipulated, technologies and, concepts, is well, versed in, abreast of, communicator with, external stakeholders and can work, well in a team environment)\n",
      "(executing activities in product, conception to launch, brainstorms innovative ideas, grow market, experience and drive growth, approaches., communicator to, external stakeholders.)\n",
      "(She identifies, ensures coding, features for, user needs, continuously integrates, confident in communicating)\n",
      "(ensures alignment, She anticipates, external business challenges and market conditions on the, well as product, mindset and, inspires others)\n",
      "(technologies to, long-, term strategies, current and new, technologies that, turn increasing, mindset with)\n",
      "(user’s, experience. He, She gathers, user feedback to propose, experience for end, user interfaces, selecting security tools, user interfaces, user interfaces, confident in communicating)\n",
      "(user experience, She gathers, user feedback to develop, experience for end, ensures coding, user interfaces, features for, user needs, continuously integrates, user interfaces, confident in communicating)\n",
      "(ensures alignment, grow the, well as various product positioning, abreast of, mindset when, inspires others, long-, term strategic)\n",
      "(She synthesises, well-versed in various, technologies to, inspires his, long-, term strategic)\n",
      "(She establishes, evaluation of, concepts and drawings by, technologies and, impactful design, concepts, is well, versed in, abreast of, mindset while, sits within, communicator within, external stakeholders and manages stakeholders’, expectations as, well as coach, mindset,, inspires his, long-, term strategic)\n",
      "(well as governance, She reviews, regulatory requirements, approaches and, approaches and, well as applicable, encountered,, inspires action)\n",
      "(She also, ensures alignment, external technological developments, oversight on, translation of business, liaises and negotiates with, external suppliers)\n",
      "(She extracts, external stakeholders.)\n",
      "(She empowers, concepts and drawings to, technologies and, impactful design, concepts, is well, versed in, abreast of, sits within, communicator with, external stakeholders and manages stakeholders’, expectations as, well as coach)\n",
      "(She leads, features against strategic, well-versed with, forth fresh perspectives and innovative strategies, well and sustains strong,)\n",
      "()\n",
      "(She leads, user testing, concepts and drawings to, technologies and, concepts, is well, versed in, abreast of, sits within, communicator with, external stakeholders.)\n",
      "(tactical activities, She guides, conception to launch, grow market, experience and drive growth, well as various product positioning, approaches., communicator to, external stakeholders and works well, environment.)\n",
      "(user patterns,, She supports, framework within, full product, ensures that, full product, concepts and thinking, current risk, framework and, confident in communicating)\n",
      "(She implement, current controls, concepts and thinking, enhancing the current risk, framework and, anticipate issues, communicator to, external stakeholders and works well, environment.)\n",
      "(existing product upgrades, She monitors, tracks and manages risk, established. He, time analysis, user incident reports, techniques depending, takes an, time analysis, well both)\n",
      "(control requirements, She manages, regulatory inquiries, ensures cyber, established and implemented., well as provide, employees and, held accountable, ensures the, techniques depending, time., communicator and promotes a cooperative working, environment and relationships within, beyond his)\n",
      "(She is, tasks that, source code, control,, exceeds specified, user requirements before, well as applicable)\n",
      "(exceeds specified, user requirements., She determines, framework and, ensures that, external business challenges and/or regulatory, well as applicable, champions high)\n",
      "(user requirements and expectations to inform quality, She incorporates, scenarios and, conditions in which, well as applicable)\n",
      "(matrices to, She determines, well as ensures that, regulatory and, user feedback to prioritise quality, conditions., technologies,, well as guides, well as applicable)\n",
      "(She identifies, ensures coding, features for, user needs, continuously integrates, leads others, confident in communicating)\n",
      "(user’s, experience. He, She synthesises, user feedback to implement, experience for end, user interfaces, user interfaces, current and emerging design, user interfaces, leads others, confident in communicating)\n",
      "(user experience, She synthesises, user feedback to implement, experience for end, user interfaces, features for, user needs, continuously integrates, current and emerging design, user interfaces, leads others, confident in communicating)\n",
      "(external users, She optimises, well with, external stakeholders to manage, takes charge of)\n",
      "(She addresses, champions automation, resilient systems, functions., technologies,, well as cloud, well with, external stakeholders to manage, mindset to, communicator who, external stakeholders.)\n",
      "(current versus, She also, leads and, term needs to establish, well as the, concepts and detailed architecture)\n",
      "(tactical responsibilities by, group of, She implements, user requirements into, features,, leads effort, leads a, well as coaching, influences and)\n",
      "(She prospects, current market, conditions., approaches and, environment,, attends networking, well as trends)\n",
      "(She works, features. He, environment that, well as marketing, mutually beneficial)\n",
      "(She defines, engagement initiatives and programs to, educational resources, well as recommendations and action plans, environment,, well as customer, abreast of, regulatory changes)\n",
      "(She ensures, experience and satisfaction,, time identifies, environment,, well as customer, trusted advisor)\n",
      "(She develops, forecasts,, executing key, well as to, environment,, attends networking, well as sales, time takes, enjoys networking, long-)\n",
      "(enhancement. He, She provides, executing the, features with, environment and functions through, external stakeholders.)\n",
      "(trade events, She ensures, environment. He, concepts.)\n",
      "(She develops, environment where, concepts to promote)\n",
      "(She delivers, environment,, listening skills and is inquisitive)\n",
      "(She focuses, environment,, foster collaboration, talent and, inspires his, pursue a)\n",
      "(She possesses, existing customers to discuss, long-, term growth, environment,, well as trends, individual,, takes rejection, long lasting, efforts to, existing and potential customers, exhibits good, listening skills and is able to establish)\n",
      "(She focuses, long-, term sales planning., leads important, function., ensures that, feasible within, time,, environment,, well as sales, competent decision, exhibits flexibility, environment. He, talent and)\n",
      "(She keeps, contract for, features based on mutual, environment,, well as trends, take rejection as a personal challenge to succeed)\n",
      "(environment. He, She programs, tasks in real, time and, learn and, enjoys the, environment and readily shares)\n",
      "(well-developed skills in design, She supports, existing applications, follows recommended, well as the, along with)\n",
      "(user interfaces, She assists, user interacts, validation,, evaluation of, user interface based on user feedback,, well as solutions to address, well as commonly used, user interface design, concepts, and is open, user interface of software, user experience)\n",
      "(agile development, She builds, features for, user needs, continuously integrates, functional. He also performs continuous deployment, features. He, executing test, environment and must be, constant business, technologies. He, environment. He, individual.)\n",
      "(environment. He, She contributes, approaches to, technologies. He, further., external stakeholders.)\n",
      "(She scopes, well as development, validation and, concepts and framework., leads a, well as coaching, confident leader, forth his)\n",
      "(She anticipates, external technological developments, ensures that, oversight on, translation of business, liaises and negotiates with, external suppliers)\n",
      "(user interfaces, She evaluates, user experience, transfer of, well as synthesises, leads a, user-, user experience, communicator and is able to)\n",
      "(current versus, She leads, term needs to establish, enjoys the)\n",
      "(leads important, She plans, existing applications, long-, term impact. He identifies security risks,, well as the, forth his)\n",
      "(tactical responsibilities by, group of, She implements, user requirements into, features,, leads effort, leads a, well as coaching, well as the)\n",
      "(user requirements for, user interface (, She translates, experience for users, ensures that, user experience, well as Universal, user interfaces)\n",
      "(She conducts, enhancement opportunities, existing system, functional specifications, control and, techniques to, well as software)\n",
      "(user journeys, She coordinates, user needs, well as comparable, user experience, user experience, evaluation of, user feedback and offers new, user experience, forth his, user experience)\n",
      "(She analyses, user needs, functional and technical specifications, well as reviews, commitment and, techniques to, well as software)\n",
      "(current versus, She leads, term needs to establish, environment. He)\n",
      "(executing data, She is, well versed in data, techniques and, confident in making, impactful resolutions)\n",
      "(She ensures, ensures alignment, confident in making)\n",
      "(leads the, ecosystem-wide, She leads, evaluation of, environment. He, well as information, technologies. He, forth original and fresh ideas)\n",
      "(She ensures, local and regional data, well as the, abreast of)\n",
      "(framework to, regulatory and, She defines, well as procedures for, ensures that, regulatory,, enhancing IT, function., environment due, regulatory requirements, those goals, environment in which)\n",
      "(ensures alignment, She anticipates, external business challenges and market conditions on the, grow the, well as product, inspires others)\n",
      "(well as governance, She reviews, regulatory requirements, approaches and, approaches and, well as applicable, encountered,, inspires action)\n",
      "(She manages, well as investigation, environment due, regulatory requirements, clearly articulate, concepts and provide advice)\n",
      "(technologies to, She assists, environment due, regulatory requirements, concepts and ideas)\n",
      "(user experience, well as standards, user-, She engages, user task flows, user experience, approaches to, user experience, well as relevant, mindset and, user experience)\n",
      "(tactical activities, She guides, conception to launch, grow market, experience and drive growth, well as various product positioning, approaches., anticipate issues, communicator to, external stakeholders and is able to, well in a team environment)\n",
      "(leads and, executing cross, functional and regional programs from, initiation to, She partners, framework., well as Scrum, framework., confident in making)\n",
      "(She oversees, time and, ensures accurate, leads multi, composed of, framework., well as Scrum, framework., confident and decisive in leading, external stakeholders.)\n",
      "(takes ownership of, She defines, tasks of, ensures the, framework and, well as Scrum, framework.)\n",
      "(She is, tasks that, source code, control,, exceeds specified, user requirements before, well as applicable, takes pride in delivering, anticipate problems)\n",
      "(exceeds specified, user requirements., She determines, framework and, ensures that, external business challenges and/or regulatory, well as applicable, champions high)\n",
      "(user requirements and expectations to inform quality, She incorporates, scenarios and, conditions in which, well as applicable, environment.)\n",
      "(matrices to, She determines, well as ensures that, regulatory and, user feedback to prioritise quality, conditions., technologies,, well as guides, well as applicable, environment.)\n",
      "(She oversees, features against strategic, well as various product positioning, forth fresh perspectives and innovative strategies, well and sustains strong,)\n",
      "(current versus, She leads, term needs to establish, ensures alignment, current architecture, environment. He, well as product)\n",
      "(user stories, personas, user needs, user experience, She gathers, user experience, user experience, approaches to, user feedback to propose, well as the, user experience, user experience, well as relevant, translation of user and business needs, user experience)\n",
      "(She approves, technologies to, long-, term strategies, current and new, turn increase)\n"
     ]
    }
   ],
   "source": [
    "for doc in db.get_docs(nlp.vocab):\n",
    "     print(doc.ents)"
   ]
  },
  {
   "cell_type": "code",
   "execution_count": 6,
   "metadata": {},
   "outputs": [],
   "source": [
    "# Load data into memory\n",
    "doc_bin = DocBin(store_user_data=False).from_disk('../data/test.spacy')\n",
    "# doc_bin = DocBin(store_user_data=False).from_disk('../data/predictv2.spacy')"
   ]
  },
  {
   "cell_type": "code",
   "execution_count": 7,
   "metadata": {},
   "outputs": [],
   "source": [
    "docs = doc_bin.get_docs(nlp.vocab)"
   ]
  },
  {
   "cell_type": "code",
   "execution_count": 8,
   "metadata": {},
   "outputs": [
    {
     "name": "stdout",
     "output_type": "stream",
     "text": [
      "\n",
      "Text: The Associate Security Analyst supports security systems, operations administration, monitoring and maintenance of cyber security systems and applications. He/She monitors security alerts and events. He collects and documents information based on established practices and supports the preparation and publishing of security advisories. He assists with the analysis of security-related information and events, escalation of incidents for validation and remediation. He is required to be on standby with on-call availability with varied shifts including nights, weekends and holidays. He is familiar with cyber security standards, protocols and frameworks, and is required to act in accordance with the Cyber Security Act 2018. He is knowledgeable in using various cyber security tools and techniques to monitor and resolve incidents. The Associate Security Analyst is alert and vigilant in performing monitoring activities and is able to analyse and resolve security-related issues critically. He communicates clearly in his interactions with others and coordinates effectively with his team to perform security operations.\n",
      "spans: [(1, 'Associate Security Analyst', 'OCC'), (5, 'security systems', 'SKILL'), (8, 'operations administration', 'SKILL'), (15, 'cyber security systems', 'SKILL'), (37, 'established practices and', 'SKILL'), (46, 'security advisories', 'SKILL'), (55, 'security-related information', 'SKILL'), (74, 'be on', 'SKILL'), (84, 'shifts including', 'SKILL'), (96, 'cyber security standards', 'SKILL'), (113, 'Cyber Security Act 2018', 'SKILL'), (124, 'cyber security tools', 'SKILL'), (136, 'Associate Security Analyst', 'OCC'), (145, 'monitoring activities', 'SKILL'), (151, 'analyse and', 'SKILL'), (154, 'security-related', 'SKILL'), (161, 'communicates clearly', 'SKILL'), (176, 'security operations', 'SKILL')]\n",
      " pair: (1, 5) --> gold labels: ['KNOWS'] --> predicted values: {'KNOWS': 0.7621404, 'HAS': 0.8112556}\n",
      " pair: (1, 8) --> gold labels: ['KNOWS'] --> predicted values: {'KNOWS': 0.30580413, 'HAS': 0.53246397}\n",
      " pair: (1, 15) --> gold labels: ['KNOWS'] --> predicted values: {'KNOWS': 0.76304287, 'HAS': 0.60773134}\n"
     ]
    },
    {
     "ename": "KeyError",
     "evalue": "(1, 37)",
     "output_type": "error",
     "traceback": [
      "\u001b[0;31m---------------------------------------------------------------------------\u001b[0m",
      "\u001b[0;31mKeyError\u001b[0m                                  Traceback (most recent call last)",
      "Cell \u001b[0;32mIn[8], line 19\u001b[0m\n\u001b[1;32m     17\u001b[0m \u001b[38;5;28mprint\u001b[39m(\u001b[38;5;124mf\u001b[39m\u001b[38;5;124m\"\u001b[39m\u001b[38;5;124mspans: \u001b[39m\u001b[38;5;132;01m{\u001b[39;00m[(e\u001b[38;5;241m.\u001b[39mstart,\u001b[38;5;250m \u001b[39me\u001b[38;5;241m.\u001b[39mtext,\u001b[38;5;250m \u001b[39me\u001b[38;5;241m.\u001b[39mlabel_)\u001b[38;5;250m \u001b[39m\u001b[38;5;28;01mfor\u001b[39;00m\u001b[38;5;250m \u001b[39me\u001b[38;5;250m \u001b[39m\u001b[38;5;129;01min\u001b[39;00m\u001b[38;5;250m \u001b[39mpred\u001b[38;5;241m.\u001b[39ments]\u001b[38;5;132;01m}\u001b[39;00m\u001b[38;5;124m\"\u001b[39m)\n\u001b[1;32m     18\u001b[0m \u001b[38;5;28;01mfor\u001b[39;00m value, rel_dict \u001b[38;5;129;01min\u001b[39;00m pred\u001b[38;5;241m.\u001b[39m_\u001b[38;5;241m.\u001b[39mrel\u001b[38;5;241m.\u001b[39mitems():\n\u001b[0;32m---> 19\u001b[0m     gold_labels \u001b[38;5;241m=\u001b[39m [k \u001b[38;5;28;01mfor\u001b[39;00m (k, v) \u001b[38;5;129;01min\u001b[39;00m \u001b[43mgold\u001b[49m\u001b[38;5;241;43m.\u001b[39;49m\u001b[43m_\u001b[49m\u001b[38;5;241;43m.\u001b[39;49m\u001b[43mrel\u001b[49m\u001b[43m[\u001b[49m\u001b[43mvalue\u001b[49m\u001b[43m]\u001b[49m\u001b[38;5;241m.\u001b[39mitems() \u001b[38;5;28;01mif\u001b[39;00m v \u001b[38;5;241m>\u001b[39m \u001b[38;5;241m0.7\u001b[39m]\n\u001b[1;32m     20\u001b[0m     \u001b[38;5;28;01mif\u001b[39;00m gold_labels:\n\u001b[1;32m     21\u001b[0m         \u001b[38;5;28mprint\u001b[39m(\n\u001b[1;32m     22\u001b[0m             \u001b[38;5;124mf\u001b[39m\u001b[38;5;124m\"\u001b[39m\u001b[38;5;124m pair: \u001b[39m\u001b[38;5;132;01m{\u001b[39;00mvalue\u001b[38;5;132;01m}\u001b[39;00m\u001b[38;5;124m --> gold labels: \u001b[39m\u001b[38;5;132;01m{\u001b[39;00mgold_labels\u001b[38;5;132;01m}\u001b[39;00m\u001b[38;5;124m --> predicted values: \u001b[39m\u001b[38;5;132;01m{\u001b[39;00mrel_dict\u001b[38;5;132;01m}\u001b[39;00m\u001b[38;5;124m\"\u001b[39m\n\u001b[1;32m     23\u001b[0m         )\n",
      "\u001b[0;31mKeyError\u001b[0m: (1, 37)"
     ]
    }
   ],
   "source": [
    "doc_bin = DocBin(store_user_data=True).from_disk('../data/test.spacy')\n",
    "gold_docs = doc_bin.get_docs(nlp.vocab)\n",
    "\n",
    "examples = []\n",
    "for gold in gold_docs:\n",
    "   pred = Doc(\n",
    "       nlp.vocab,\n",
    "       words=[t.text for t in gold],\n",
    "       spaces=[t.whitespace_ for t in gold],\n",
    "   )\n",
    "   pred.ents = gold.ents\n",
    "   for name, proc in nlp.pipeline:\n",
    "       pred = proc(pred)\n",
    "   examples.append(Example(pred, gold))\n",
    "   print()\n",
    "   print(f\"Text: {gold.text}\")\n",
    "   print(f\"spans: {[(e.start, e.text, e.label_) for e in pred.ents]}\")\n",
    "   for value, rel_dict in pred._.rel.items():\n",
    "       gold_labels = [k for (k, v) in gold._.rel[value].items() if v > 0.7]\n",
    "       if gold_labels:\n",
    "           print(\n",
    "               f\" pair: {value} --> gold labels: {gold_labels} --> predicted values: {rel_dict}\"\n",
    "           )\n",
    "   print()"
   ]
  },
  {
   "cell_type": "code",
   "execution_count": 9,
   "metadata": {},
   "outputs": [],
   "source": [
    "def rel_probabilities(threshold=0.5):\n",
    "    examples = []\n",
    "    for gold in docs:\n",
    "        pred = Doc(\n",
    "            nlp.vocab,\n",
    "            words=[t.text for t in gold],\n",
    "            spaces=[t.whitespace_ for t in gold],\n",
    "        )\n",
    "        pred.ents = gold.ents\n",
    "    for name, proc in nlp.pipeline:\n",
    "        pred = proc(pred)\n",
    "    examples.append(Example(pred, gold))\n",
    "    print()\n",
    "    print(f\"Text: {gold.text}\")\n",
    "    print(f\"spans: {[(e.start, e.text, e.label_) for e in pred.ents]}\")\n",
    "    for value, rel_dict in pred._.rel.items():\n",
    "        if rel_dict['KNOWS'] > threshold or rel_dict['HAS'] > threshold:\n",
    "            print(\"value: \", value, \"rel_dict: \", rel_dict)"
   ]
  },
  {
   "cell_type": "code",
   "execution_count": 10,
   "metadata": {},
   "outputs": [
    {
     "name": "stdout",
     "output_type": "stream",
     "text": [
      "\n",
      "Text: The Applications Support Engineer is responsible for the operation, support and maintenance of specific software applications, which may be built in-house or third-party software. He/She should have a deep understanding of the application's functionality and backend. He oversees software testing and transition processes and provides necessary support when required. He is responsible for interacting with the application users and setting up, and on boarding of the users. He works in a team setting and is proficient in applications development and monitoring tools and techniques required by the organisation. He is also familiar with the relevant software platforms on which the solutions are deployed. The Applications Support Engineer uses critical thinking skills to identify and solve problems. He is passionate about analysing and resolving problems, and addressing technical challenges. He also possesses strong interpersonal skills.\n",
      "spans: [(0, 'The', 'SKILL'), (1, 'Applications Support Engineer', 'OCC'), (45, 'backend', 'SKILL'), (49, 'software testing', 'SKILL'), (52, 'transition processes', 'SKILL'), (82, 'works in a team setting', 'SKILL'), (91, 'applications development', 'SKILL'), (94, 'monitoring tools', 'SKILL'), (97, 'techniques required', 'SKILL'), (124, 'critical thinking', 'SKILL'), (130, 'solve problems', 'SKILL'), (136, 'about analysing', 'SKILL'), (143, 'addressing technical challenges', 'SKILL'), (150, 'strong interpersonal skills', 'SKILL')]\n",
      "value:  (1, 45) rel_dict:  {'KNOWS': 0.51564455, 'HAS': 0.6378003}\n",
      "value:  (1, 49) rel_dict:  {'KNOWS': 0.61639, 'HAS': 0.64637315}\n",
      "value:  (1, 52) rel_dict:  {'KNOWS': 0.58483356, 'HAS': 0.5428515}\n",
      "value:  (1, 82) rel_dict:  {'KNOWS': 0.5019363, 'HAS': 0.5355527}\n",
      "value:  (1, 91) rel_dict:  {'KNOWS': 0.35989827, 'HAS': 0.5500448}\n",
      "value:  (1, 97) rel_dict:  {'KNOWS': 0.5786868, 'HAS': 0.3586579}\n",
      "value:  (45, 1) rel_dict:  {'KNOWS': 0.38940072, 'HAS': 0.6668687}\n",
      "value:  (45, 49) rel_dict:  {'KNOWS': 0.808521, 'HAS': 0.51383317}\n",
      "value:  (45, 52) rel_dict:  {'KNOWS': 0.7873161, 'HAS': 0.40710148}\n",
      "value:  (45, 82) rel_dict:  {'KNOWS': 0.7259003, 'HAS': 0.40003076}\n",
      "value:  (45, 91) rel_dict:  {'KNOWS': 0.5963716, 'HAS': 0.41412556}\n",
      "value:  (45, 94) rel_dict:  {'KNOWS': 0.54332495, 'HAS': 0.25419965}\n",
      "value:  (45, 97) rel_dict:  {'KNOWS': 0.7830551, 'HAS': 0.24434893}\n",
      "value:  (45, 124) rel_dict:  {'KNOWS': 0.71596724, 'HAS': 0.3915723}\n",
      "value:  (45, 130) rel_dict:  {'KNOWS': 0.784354, 'HAS': 0.6198934}\n",
      "value:  (45, 143) rel_dict:  {'KNOWS': 0.6510686, 'HAS': 0.312959}\n",
      "value:  (49, 45) rel_dict:  {'KNOWS': 0.5864126, 'HAS': 0.22302595}\n",
      "value:  (49, 52) rel_dict:  {'KNOWS': 0.65230894, 'HAS': 0.1621768}\n",
      "value:  (49, 82) rel_dict:  {'KNOWS': 0.57304883, 'HAS': 0.15822464}\n",
      "value:  (49, 97) rel_dict:  {'KNOWS': 0.64655745, 'HAS': 0.08354393}\n",
      "value:  (49, 124) rel_dict:  {'KNOWS': 0.56092715, 'HAS': 0.15357047}\n",
      "value:  (49, 130) rel_dict:  {'KNOWS': 0.64830637, 'HAS': 0.31495318}\n",
      "value:  (52, 1) rel_dict:  {'KNOWS': 0.21553624, 'HAS': 0.76522326}\n",
      "value:  (52, 45) rel_dict:  {'KNOWS': 0.5465485, 'HAS': 0.62375516}\n",
      "value:  (52, 49) rel_dict:  {'KNOWS': 0.64528775, 'HAS': 0.6324689}\n",
      "value:  (52, 82) rel_dict:  {'KNOWS': 0.5329226, 'HAS': 0.5205233}\n",
      "value:  (52, 91) rel_dict:  {'KNOWS': 0.38896385, 'HAS': 0.5350773}\n",
      "value:  (52, 97) rel_dict:  {'KNOWS': 0.6086213, 'HAS': 0.3449063}\n",
      "value:  (52, 124) rel_dict:  {'KNOWS': 0.52061474, 'HAS': 0.51168996}\n",
      "value:  (52, 130) rel_dict:  {'KNOWS': 0.610445, 'HAS': 0.72642756}\n",
      "value:  (82, 1) rel_dict:  {'KNOWS': 0.15495138, 'HAS': 0.7449462}\n",
      "value:  (82, 45) rel_dict:  {'KNOWS': 0.44579473, 'HAS': 0.59768355}\n",
      "value:  (82, 49) rel_dict:  {'KNOWS': 0.54834306, 'HAS': 0.60662025}\n",
      "value:  (82, 52) rel_dict:  {'KNOWS': 0.51558805, 'HAS': 0.5004551}\n",
      "value:  (82, 91) rel_dict:  {'KNOWS': 0.29815874, 'HAS': 0.5077106}\n",
      "value:  (82, 97) rel_dict:  {'KNOWS': 0.50927633, 'HAS': 0.32055965}\n",
      "value:  (82, 130) rel_dict:  {'KNOWS': 0.51119107, 'HAS': 0.70409536}\n",
      "value:  (91, 1) rel_dict:  {'KNOWS': 0.10127714, 'HAS': 0.69563305}\n",
      "value:  (91, 45) rel_dict:  {'KNOWS': 0.33081347, 'HAS': 0.53757244}\n",
      "value:  (91, 49) rel_dict:  {'KNOWS': 0.42730537, 'HAS': 0.546832}\n",
      "value:  (91, 130) rel_dict:  {'KNOWS': 0.39125028, 'HAS': 0.65058863}\n",
      "value:  (94, 1) rel_dict:  {'KNOWS': 0.22204503, 'HAS': 0.792185}\n",
      "value:  (94, 45) rel_dict:  {'KNOWS': 0.5559688, 'HAS': 0.6597392}\n",
      "value:  (94, 49) rel_dict:  {'KNOWS': 0.6539556, 'HAS': 0.668063}\n",
      "value:  (94, 52) rel_dict:  {'KNOWS': 0.62360233, 'HAS': 0.56663376}\n",
      "value:  (94, 82) rel_dict:  {'KNOWS': 0.54238904, 'HAS': 0.5594065}\n",
      "value:  (94, 91) rel_dict:  {'KNOWS': 0.39805233, 'HAS': 0.57374674}\n",
      "value:  (94, 97) rel_dict:  {'KNOWS': 0.61765426, 'HAS': 0.38109776}\n",
      "value:  (94, 124) rel_dict:  {'KNOWS': 0.53011066, 'HAS': 0.55067116}\n",
      "value:  (94, 130) rel_dict:  {'KNOWS': 0.6194622, 'HAS': 0.7564265}\n",
      "value:  (97, 1) rel_dict:  {'KNOWS': 0.19837381, 'HAS': 0.8749544}\n",
      "value:  (97, 45) rel_dict:  {'KNOWS': 0.5205177, 'HAS': 0.78065324}\n",
      "value:  (97, 49) rel_dict:  {'KNOWS': 0.6209945, 'HAS': 0.7869743}\n",
      "value:  (97, 52) rel_dict:  {'KNOWS': 0.5895646, 'HAS': 0.70588374}\n",
      "value:  (97, 82) rel_dict:  {'KNOWS': 0.50681543, 'HAS': 0.6997483}\n",
      "value:  (97, 91) rel_dict:  {'KNOWS': 0.36440685, 'HAS': 0.7118734}\n",
      "value:  (97, 94) rel_dict:  {'KNOWS': 0.3158475, 'HAS': 0.54366297}\n",
      "value:  (97, 124) rel_dict:  {'KNOWS': 0.4944722, 'HAS': 0.69226474}\n",
      "value:  (97, 130) rel_dict:  {'KNOWS': 0.5852991, 'HAS': 0.8507546}\n",
      "value:  (97, 136) rel_dict:  {'KNOWS': 0.24503613, 'HAS': 0.633664}\n",
      "value:  (97, 143) rel_dict:  {'KNOWS': 0.41996497, 'HAS': 0.61422676}\n",
      "value:  (97, 150) rel_dict:  {'KNOWS': 0.45713827, 'HAS': 0.55842805}\n",
      "value:  (124, 45) rel_dict:  {'KNOWS': 0.72367394, 'HAS': 0.24659605}\n",
      "value:  (124, 49) rel_dict:  {'KNOWS': 0.7980923, 'HAS': 0.25359222}\n",
      "value:  (124, 52) rel_dict:  {'KNOWS': 0.7760524, 'HAS': 0.18081273}\n",
      "value:  (124, 82) rel_dict:  {'KNOWS': 0.7125715, 'HAS': 0.17650212}\n",
      "value:  (124, 91) rel_dict:  {'KNOWS': 0.58038515, 'HAS': 0.1851516}\n",
      "value:  (124, 94) rel_dict:  {'KNOWS': 0.5269042, 'HAS': 0.09874668}\n",
      "value:  (124, 97) rel_dict:  {'KNOWS': 0.77163124, 'HAS': 0.09415954}\n",
      "value:  (124, 130) rel_dict:  {'KNOWS': 0.77297866, 'HAS': 0.34393793}\n",
      "value:  (124, 143) rel_dict:  {'KNOWS': 0.6359261, 'HAS': 0.12772647}\n",
      "value:  (124, 150) rel_dict:  {'KNOWS': 0.6701302, 'HAS': 0.10418714}\n",
      "value:  (130, 45) rel_dict:  {'KNOWS': 0.4977529, 'HAS': 0.50727993}\n",
      "value:  (130, 49) rel_dict:  {'KNOWS': 0.59932816, 'HAS': 0.51660067}\n",
      "value:  (130, 52) rel_dict:  {'KNOWS': 0.5673533, 'HAS': 0.4097787}\n",
      "value:  (130, 97) rel_dict:  {'KNOWS': 0.56114197, 'HAS': 0.24640068}\n",
      "value:  (136, 49) rel_dict:  {'KNOWS': 0.5501517, 'HAS': 0.32493737}\n",
      "value:  (136, 52) rel_dict:  {'KNOWS': 0.5174124, 'HAS': 0.23821706}\n",
      "value:  (136, 97) rel_dict:  {'KNOWS': 0.5111019, 'HAS': 0.12836401}\n",
      "value:  (136, 130) rel_dict:  {'KNOWS': 0.5130164, 'HAS': 0.42618752}\n",
      "value:  (143, 49) rel_dict:  {'KNOWS': 0.5899306, 'HAS': 0.40730983}\n",
      "value:  (143, 52) rel_dict:  {'KNOWS': 0.55775917, 'HAS': 0.3086572}\n",
      "value:  (143, 97) rel_dict:  {'KNOWS': 0.5515189, 'HAS': 0.1737289}\n",
      "value:  (143, 130) rel_dict:  {'KNOWS': 0.55341345, 'HAS': 0.51465875}\n"
     ]
    }
   ],
   "source": [
    "rel_probabilities()"
   ]
  },
  {
   "cell_type": "code",
   "execution_count": 12,
   "metadata": {},
   "outputs": [
    {
     "data": {
      "text/plain": [
       "1"
      ]
     },
     "execution_count": 12,
     "metadata": {},
     "output_type": "execute_result"
    }
   ],
   "source": [
    "len(examples)"
   ]
  },
  {
   "cell_type": "code",
   "execution_count": 20,
   "metadata": {},
   "outputs": [
    {
     "name": "stdout",
     "output_type": "stream",
     "text": [
      "name:  tok2vec \tproc:  <spacy.pipeline.tok2vec.Tok2Vec object at 0x2aafdedb0>\n",
      "name:  ner \tproc:  <spacy.pipeline.ner.EntityRecognizer object at 0x2aafbdf50>\n",
      "name:  relation_extractor \tproc:  <rel_pipe.RelationExtractor object at 0x2aafdfdd0>\n"
     ]
    }
   ],
   "source": [
    "# Print the available pipeline procedures\n",
    "for name, proc in nlp.pipeline:\n",
    "     print(\"name: \", name, \"\\tproc: \", proc)\n",
    "     #    pred = proc(pred)"
   ]
  },
  {
   "cell_type": "code",
   "execution_count": 21,
   "metadata": {},
   "outputs": [
    {
     "name": "stdout",
     "output_type": "stream",
     "text": [
      "<spacy.pipeline.tok2vec.Tok2Vec object at 0x2aafdedb0>\n",
      "<spacy.pipeline.ner.EntityRecognizer object at 0x2aafbdf50>\n",
      "<rel_pipe.RelationExtractor object at 0x2aafdfdd0>\n"
     ]
    }
   ],
   "source": [
    "# Example script to retrieve a specific pipeline procedure\n",
    "tok2vec = nlp.get_pipe(\"tok2vec\")\n",
    "# transformer = nlp.get_pipe(\"transformer\")\n",
    "ner = nlp.get_pipe(\"ner\")\n",
    "relation_extractor = nlp.get_pipe(\"relation_extractor\")\n",
    "print(tok2vec)\n",
    "print(ner)\n",
    "print(relation_extractor)\n",
    "# print(transformer)"
   ]
  },
  {
   "cell_type": "code",
   "execution_count": 11,
   "metadata": {},
   "outputs": [
    {
     "name": "stdout",
     "output_type": "stream",
     "text": [
      "<function create_instances.<locals>.<lambda> at 0x2aadb3c40>\n"
     ]
    }
   ],
   "source": [
    "# Example script to retrieve a function from a pipeline procedure\n",
    "get_instances = relation_extractor.model.attrs[\"get_instances\"]\n",
    "print(get_instances)"
   ]
  },
  {
   "cell_type": "code",
   "execution_count": 29,
   "metadata": {},
   "outputs": [],
   "source": [
    "# Predict on a document without modifying it\n",
    "doc1 = nlp(\"The Associate Security Analyst supports security systems, operations administration, monitoring and maintenance of cyber security systems and applications. He/She monitors security alerts and events. He collects and documents information based on established practices and supports the preparation and publishing of security advisories. He assists with the analysis of security-related information and events, escalation of incidents for validation and remediation. He is required to be on standby with on-call availability with varied shifts including nights, weekends and holidays. He is familiar with cyber security standards, protocols and frameworks, and is required to act in accordance with the Cyber Security Act 2018. He is knowledgeable in using various cyber security tools and techniques to monitor and resolve incidents. The Associate Security Analyst is alert and vigilant in performing monitoring activities and is able to analyse and resolve security-related issues critically. He communicates clearly in his interactions with others and coordinates effectively with his team to perform security operations.\")\n",
    "doc2 = nlp(\"The Chief Information Security Officer develops and drives the vision for the information security function. He/She acts as the authority for the development and enforcement of organisation security strategy, standards and policies, and has ultimate responsibility for ensuring the protection of corporate information. He guides the design and continuous improvement of the IT security architecture and Cyber Risk Maturity Model that balances business needs with security risks. He advises the board and top executives on all security matters and sets directions for complying with regulatory inquiries, legal and compliance regulations, inspections and audits. He is an expert in cyber security compliance standards, protocols and frameworks, as well as the Cyber Security Act 2018. He is keeps abreast of cyber-related applications and hardware technologies and services, and is constantly on the look-out for new technologies that may be leveraged on to enhance work processes, or which may pose as potential threats. The Chief Information Security Officer is an inspirational and influential leader, who displays sound judgement and decisiveness in ensuring that corporate information is well protected and secured. He is strategic in his approach toward resource management and capability development among his teams.\")\n",
    "doc3 = nlp(\"The .NET Framework is a software framework developed by Microsoft that runs primarily on Microsoft Windows. It includes a large class library called Framework Class Library (FCL) and provides language interoperability across several programming languages. Programs written for .NET Framework execute in a software environment named the Common Language Runtime (CLR). The CLR is an application virtual machine that provides services such as security, memory management, and exception handling. As such, computer code written using .NET Framework is called \\\"managed code\\\". FCL and CLR together constitute the .NET Framework.\")\n",
    "doc4 = nlp(\"\\nDefined by Microsoft for use in recent versions of Windows, an assembly in the Common Language Infrastructure (CLI) is a compiled code library used for deployment, versioning, and security. There are two types: process assemblies (EXE) and library assemblies (DLL). A process assembly represents a process that will use classes defined in library assemblies. CLI assemblies contain code in CIL, which is usually generated from a CLI language, and then compiled into machine language at run time by the just-in-time compiler. In the .NET Framework implementation, this compiler is part of the Common Language Runtime (CLR).\")\n",
    "doc5 = nlp(\"10 Gigabit Ethernet is a group of computer networking technologies for transmitting Ethernet frames at a rate of 10 gigabits per second. It was first defined by the IEEE 802.3ae-2002 standard. Unlike previous Ethernet standards, 10 Gigabit Ethernet defines only full-duplex point-to-point links which are generally connected by network switches; shared-medium CSMA/CD operation has not been carried over from the previous generations Ethernet standards so half-duplex operation and repeater hubs do not exist in 10GbE.\")"
   ]
  },
  {
   "cell_type": "code",
   "execution_count": 30,
   "metadata": {},
   "outputs": [
    {
     "name": "stdout",
     "output_type": "stream",
     "text": [
      "spans: [(1, 'Gigabit Ethernet is', 'SKILL'), (7, 'computer networking technologies', 'SKILL'), (12, 'Ethernet frames', 'SKILL'), (35, 'Ethernet standards', 'SKILL'), (39, 'Gigabit Ethernet defines', 'SKILL'), (57, 'network switches', 'SKILL'), (76, 'Ethernet standards', 'SKILL')]\n"
     ]
    }
   ],
   "source": [
    "print(f\"spans: {[(e.start, e.text, e.label_) for e in doc5.ents]}\")"
   ]
  },
  {
   "cell_type": "code",
   "execution_count": 33,
   "metadata": {},
   "outputs": [
    {
     "name": "stdout",
     "output_type": "stream",
     "text": [
      "Gigabit Ethernet is SKILL\n",
      "computer networking technologies SKILL\n",
      "Ethernet frames SKILL\n",
      "Ethernet standards SKILL\n",
      "Gigabit Ethernet defines SKILL\n",
      "network switches SKILL\n",
      "Ethernet standards SKILL\n"
     ]
    }
   ],
   "source": [
    "for e in doc5.ents:\n",
    "     print(e, e.label_)"
   ]
  },
  {
   "cell_type": "code",
   "execution_count": 34,
   "metadata": {},
   "outputs": [],
   "source": [
    "for e in doc5._.rel.items():\n",
    "     if e[1]['KNOWS'] > 0.5:\n",
    "          print(e)"
   ]
  },
  {
   "cell_type": "code",
   "execution_count": 25,
   "metadata": {},
   "outputs": [
    {
     "name": "stdout",
     "output_type": "stream",
     "text": [
      "spans: [(10, 'Windows,', 'SKILL'), (17, 'Language Infrastructure', 'OCC'), (34, 'security. There are', 'SKILL'), (73, 'CIL,', 'OCC'), (82, 'language,', 'SKILL'), (88, 'machine language', 'SKILL'), (115, 'Language Runtime (CLR).', 'OCC')]\n"
     ]
    }
   ],
   "source": [
    "print(f\"spans: {[(e.start, e.text, e.label_) for e in doc4.ents]}\")"
   ]
  },
  {
   "cell_type": "code",
   "execution_count": 29,
   "metadata": {},
   "outputs": [],
   "source": [
    "from spacy.training.example import Example\n",
    "\n",
    "pred = Doc(\n",
    "    nlp.vocab,\n",
    "    words=[t.text for t in doc4],\n",
    "    spaces=[t.whitespace_ for t in doc4],\n",
    ")\n",
    "pred.ents = doc4.ents\n",
    "for name, proc in nlp.pipeline:\n",
    "    pred = proc(pred)\n",
    "\n",
    "example = Example(pred, doc4)"
   ]
  },
  {
   "cell_type": "code",
   "execution_count": 48,
   "metadata": {},
   "outputs": [
    {
     "name": "stdout",
     "output_type": "stream",
     "text": [
      "0.031369336\n",
      "0.011399968\n"
     ]
    }
   ],
   "source": [
    "# print(doc3.ents)\n",
    "# doc4._.rel\n",
    "\n",
    "# for value, rel_dict in doc4._.rel.items():\n",
    "#      print(rel_dict)\n",
    "\n",
    "for (k, v) in doc4._.rel[(10, 17)].items():\n",
    "     print(v)"
   ]
  },
  {
   "cell_type": "code",
   "execution_count": 64,
   "metadata": {},
   "outputs": [],
   "source": [
    "# Let's go a step back an add manual instances to doc1 & doc2\n",
    "# doc1.ents = [\n",
    "#     Span(doc1, 1, 4, label=\"OCCUPATION\"),\n",
    "#     Span(doc1, 5, 7, label=\"SKILL\"),\n",
    "#     Span(doc1, 8, 10, label=\"SKILL\"),\n",
    "#     Span(doc1, 15, 17, label=\"SKILL\"),\n",
    "# ]\n",
    "\n",
    "# doc2.ents = [\n",
    "#     Span(doc1, 1, 5, label=\"OCCUPATION\"),\n",
    "#     Span(doc1, 12, 14, label=\"SKILL\"),\n",
    "#     # Span(doc1, 28, 30, label=\"SKILL\"),\n",
    "#     # Span(doc1, 43, 45, label=\"SKILL\"),\n",
    "# ]"
   ]
  },
  {
   "cell_type": "code",
   "execution_count": 68,
   "metadata": {},
   "outputs": [],
   "source": [
    "scores = relation_extractor.predict([doc1])"
   ]
  },
  {
   "cell_type": "code",
   "execution_count": 69,
   "metadata": {},
   "outputs": [
    {
     "data": {
      "text/plain": [
       "array([[9.98137116e-01, 1.13621921e-08],\n",
       "       [9.97541308e-01, 9.77544889e-09],\n",
       "       [9.98295128e-01, 1.47525085e-08],\n",
       "       [4.52181703e-05, 3.71496078e-08],\n",
       "       [2.50027166e-03, 2.90826185e-09],\n",
       "       [3.60449357e-03, 4.38897052e-09],\n",
       "       [3.86377360e-05, 4.11782395e-08],\n",
       "       [2.82057608e-03, 3.74691034e-09],\n",
       "       [3.08154104e-03, 4.86491647e-09],\n",
       "       [3.50350128e-05, 4.80279638e-08],\n",
       "       [2.55823880e-03, 4.37018377e-09],\n",
       "       [1.93827704e-03, 3.75987552e-09]], dtype=float32)"
      ]
     },
     "execution_count": 69,
     "metadata": {},
     "output_type": "execute_result"
    }
   ],
   "source": [
    "scores"
   ]
  },
  {
   "cell_type": "code",
   "execution_count": 76,
   "metadata": {},
   "outputs": [
    {
     "data": {
      "text/plain": [
       "{(1, 5): {'KNOWS': 0.9981371, 'HAS': 1.1362192e-08}}"
      ]
     },
     "execution_count": 76,
     "metadata": {},
     "output_type": "execute_result"
    }
   ],
   "source": [
    "# get_instances = relation_extractor.model.attrs[\"get_instances\"]\n",
    "\n",
    "# for doc in docs:\n",
    "# for (e1, e2) in get_instances(doc1):\n",
    "#      print(e1.start, \", \", e2.start)\n",
    "# relation_extractor.set_annotations([doc1], scores)\n",
    "doc1._.rel"
   ]
  },
  {
   "cell_type": "code",
   "execution_count": 53,
   "metadata": {},
   "outputs": [
    {
     "data": {
      "text/plain": [
       "1"
      ]
     },
     "execution_count": 53,
     "metadata": {},
     "output_type": "execute_result"
    }
   ],
   "source": [
    "relation_extractor.add_label(\"OCCUPATION\")"
   ]
  },
  {
   "cell_type": "code",
   "execution_count": 4,
   "metadata": {},
   "outputs": [
    {
     "name": "stdout",
     "output_type": "stream",
     "text": [
      "['The Associate Security Analyst supports security systems, operations administration, monitoring and maintenance of cyber security systems and applications. He/She monitors security alerts and events. He collects and documents information based on established practices and supports the preparation and publishing of security advisories. He assists with the analysis of security-related information and events, escalation of incidents for validation and remediation. He is required to be on standby with on-call availability with varied shifts including nights, weekends and holidays. He is familiar with cyber security standards, protocols and frameworks, and is required to act in accordance with the Cyber Security Act 2018. He is knowledgeable in using various cyber security tools and techniques to monitor and resolve incidents. The Associate Security Analyst is alert and vigilant in performing monitoring activities and is able to analyse and resolve security-related issues critically. He communicates clearly in his interactions with others and coordinates effectively with his team to perform security operations.', 'The Chief Information Security Officer develops and drives the vision for the information security function. He/She acts as the authority for the development and enforcement of organisation security strategy, standards and policies, and has ultimate responsibility for ensuring the protection of corporate information. He guides the design and continuous improvement of the IT security architecture and Cyber Risk Maturity Model that balances business needs with security risks. He advises the board and top executives on all security matters and sets directions for complying with regulatory inquiries, legal and compliance regulations, inspections and audits. He is an expert in cyber security compliance standards, protocols and frameworks, as well as the Cyber Security Act 2018. He is keeps abreast of cyber-related applications and hardware technologies and services, and is constantly on the look-out for new technologies that may be leveraged on to enhance work processes, or which may pose as potential threats. The Chief Information Security Officer is an inspirational and influential leader, who displays sound judgement and decisiveness in ensuring that corporate information is well protected and secured. He is strategic in his approach toward resource management and capability development among his teams.', \"The Cyber Risk Analyst conducts cyber risk assessment in support of technology initiatives to help identify IT related risk and determines appropriate controls to mitigate risks. He/She monitors, tracks and manages risk mitigations and exceptions to ensure cyber security standards and policies are established. He applies a defined set of analytical or scientific methods and works independently. He is also responsible for documentation of cyber risk assessment reports. He is familiar with cyber security standards, protocols and frameworks, and acts in accordance with the Cyber Security Act 2018. He is knowledgeable in using various cyber security monitoring and analysis tools and techniques depending on the organisation's needs and requirements. The Cyber Risk Analyst is vigilant and systematic in identifying cyber risks and enjoys analysing and investigating such issues. He is a strong team player, and communicates well both verbally and in writing.\", \"The Cyber Risk Manager guides the assessment of information and cyber risks associated with technology initiatives and provides recommendations on control requirements by risk policy and standards. He/She manages and coordinates responses to regulatory inquiries, inspections, audits and ensures cyber security standards and policies are established and implemented. He oversees the development of reports and implements policies and standards. He manages employees and is held accountable for the performance and results of a team. He provides guidance on security measures and protocols to stakeholders. He is familiar with cyber security standards, protocols and frameworks, and ensures the organisations compliance to the Cyber Security Act 2018. He is knowledgeable in using various cyber security monitoring and analysis tools and techniques depending on the organisation's needs and requirements. He also has expertise in cyber risk mitigation strategies and protocols. The Cyber Risk Manager has a sharp, analytical mind and is able to anticipate problems and risks to mitigate them ahead of time. He is an excellent communicator who works well with others and promotes a cooperative working environment and relationships within and beyond his team.\", 'The Forensics Investigation Manager plans and oversees the investigation processes and protocols after a cyber-threat or incident. He/She is responsible to ensure that the data is collected and analysed properly. He is also responsible for developing a forensics investigation strategy and overseeing the forensics investigations to ensure the threat is classified and future actions are recommended to the affected stakeholders. He is familiar with different types of threats, cyber security standards, protocols and frameworks, and ensures the organisations compliance with the Cyber Security Act 2018. He is knowledgeable of hardware and software applications to analyse threat data from various sources. The Forensics Investigation Manager is diligent and watchful in the investigation activities. He is also a confident leader who develops plans and solutions to address security incidents, and has a passion for engaging and developing others in his team.']\n"
     ]
    }
   ],
   "source": [
    "# Load the jsonl data to predict\n",
    "data = srsly.read_jsonl(\"./golden.jsonl\")\n",
    "data_instances = [eg[\"text\"] for eg in data]\n",
    "print(data_instances[:5])"
   ]
  },
  {
   "cell_type": "code",
   "execution_count": 9,
   "metadata": {},
   "outputs": [
    {
     "name": "stdout",
     "output_type": "stream",
     "text": [
      "Added  138  documents\n"
     ]
    }
   ],
   "source": [
    "# Represent data via DocBin [list of docs]\n",
    "db = DocBin()\n",
    "for text in data_instances:\n",
    "     doc = nlp.make_doc(text)\n",
    "     db.add(doc)\n",
    "\n",
    "print(\"Added \", len(db), \" documents\")\n",
    "\n",
    "db.to_disk(\"predict.spacy\")"
   ]
  },
  {
   "cell_type": "code",
   "execution_count": 19,
   "metadata": {},
   "outputs": [],
   "source": [
    "# Load data into memory\n",
    "doc_bin = DocBin(store_user_data=True).from_disk('./predict.spacy')\n",
    "# docs = doc_bin.get_docs(nlp.vocab)\n",
    "docs = db.get_docs(nlp.vocab)"
   ]
  },
  {
   "cell_type": "code",
   "execution_count": 20,
   "metadata": {},
   "outputs": [
    {
     "name": "stdout",
     "output_type": "stream",
     "text": [
      "()\n",
      "()\n",
      "()\n",
      "()\n",
      "()\n",
      "()\n",
      "()\n",
      "()\n",
      "()\n",
      "()\n",
      "()\n",
      "()\n",
      "()\n",
      "()\n",
      "()\n",
      "()\n",
      "()\n",
      "()\n",
      "()\n",
      "()\n",
      "()\n",
      "()\n",
      "()\n",
      "()\n",
      "()\n",
      "()\n",
      "()\n",
      "()\n",
      "()\n",
      "()\n",
      "()\n",
      "()\n",
      "()\n",
      "()\n",
      "()\n",
      "()\n",
      "()\n",
      "()\n",
      "()\n",
      "()\n",
      "()\n",
      "()\n",
      "()\n",
      "()\n",
      "()\n",
      "()\n",
      "()\n",
      "()\n",
      "()\n",
      "()\n",
      "()\n",
      "()\n",
      "()\n",
      "()\n",
      "()\n",
      "()\n",
      "()\n",
      "()\n",
      "()\n",
      "()\n",
      "()\n",
      "()\n",
      "()\n",
      "()\n",
      "()\n",
      "()\n",
      "()\n",
      "()\n",
      "()\n",
      "()\n",
      "()\n",
      "()\n",
      "()\n",
      "()\n",
      "()\n",
      "()\n",
      "()\n",
      "()\n",
      "()\n",
      "()\n",
      "()\n",
      "()\n",
      "()\n",
      "()\n",
      "()\n",
      "()\n",
      "()\n",
      "()\n",
      "()\n",
      "()\n",
      "()\n",
      "()\n",
      "()\n",
      "()\n",
      "()\n",
      "()\n",
      "()\n",
      "()\n",
      "()\n",
      "()\n",
      "()\n",
      "()\n",
      "()\n",
      "()\n",
      "()\n",
      "()\n",
      "()\n",
      "()\n",
      "()\n",
      "()\n",
      "()\n",
      "()\n",
      "()\n",
      "()\n",
      "()\n",
      "()\n",
      "()\n",
      "()\n",
      "()\n",
      "()\n",
      "()\n",
      "()\n",
      "()\n",
      "()\n",
      "()\n",
      "()\n",
      "()\n",
      "()\n",
      "()\n",
      "()\n",
      "()\n",
      "()\n",
      "()\n",
      "()\n",
      "()\n",
      "()\n",
      "()\n",
      "()\n"
     ]
    }
   ],
   "source": [
    "for doc in docs:\n",
    "     print(doc.ents)"
   ]
  },
  {
   "cell_type": "code",
   "execution_count": 17,
   "metadata": {},
   "outputs": [],
   "source": [
    "def _score_and_format(examples, thresholds):\n",
    "    for threshold in thresholds:\n",
    "        r = score_relations(examples, threshold)\n",
    "        results = {k: \"{:.2f}\".format(v * 100) for k, v in r.items()}\n",
    "        print(f\"threshold {'{:.2f}'.format(threshold)} \\t {results}\")"
   ]
  },
  {
   "cell_type": "code",
   "execution_count": null,
   "metadata": {},
   "outputs": [],
   "source": [
    "# Make predictions for entities\n",
    "examples = []\n",
    "random_examples = []\n",
    "for gold in docs:\n",
    "    pred = Doc(\n",
    "        nlp.vocab,\n",
    "        words=[t.text for t in gold],\n",
    "        spaces=[t.whitespace_ for t in gold],\n",
    "    )\n",
    "    pred.ents = gold.ents\n",
    "\n",
    "    for name, proc in nlp.pipeline:\n",
    "        pred = proc(pred)\n",
    "    examples.append(Example(pred, gold))\n",
    "\n",
    "    relation_extractor = nlp.get_pipe(\"relation_extractor\")\n",
    "    get_instances = relation_extractor.model.attrs[\"get_instances\"]\n",
    "    for (e1, e2) in get_instances(pred):\n",
    "        offset = (e1.start, e2.start)\n",
    "        if offset not in pred._.rel:\n",
    "            pred._.rel[offset] = {}\n",
    "        for label in relation_extractor.labels:\n",
    "            pred._.rel[offset][label] = random.uniform(0, 1)\n",
    "    random_examples.append(Example(pred, gold))"
   ]
  },
  {
   "cell_type": "code",
   "execution_count": null,
   "metadata": {},
   "outputs": [],
   "source": []
  },
  {
   "cell_type": "code",
   "execution_count": null,
   "metadata": {},
   "outputs": [],
   "source": []
  },
  {
   "cell_type": "code",
   "execution_count": null,
   "metadata": {},
   "outputs": [],
   "source": []
  },
  {
   "cell_type": "code",
   "execution_count": null,
   "metadata": {},
   "outputs": [],
   "source": []
  },
  {
   "cell_type": "code",
   "execution_count": null,
   "metadata": {},
   "outputs": [],
   "source": []
  },
  {
   "cell_type": "code",
   "execution_count": 3,
   "metadata": {},
   "outputs": [
    {
     "name": "stdout",
     "output_type": "stream",
     "text": [
      "Who is Shaka Khan? {(7, 17, 'PERSON')}\n",
      "I like London and Berlin. {(18, 24, 'LOC'), (7, 13, 'LOC')}\n",
      "{'token_acc': 1.0, 'token_p': 1.0, 'token_r': 1.0, 'token_f': 1.0, 'sents_p': None, 'sents_r': None, 'sents_f': None, 'tag_acc': None, 'pos_acc': None, 'morph_acc': None, 'morph_micro_p': None, 'morph_micro_r': None, 'morph_micro_f': None, 'morph_per_feat': None, 'dep_uas': None, 'dep_las': None, 'dep_las_per_type': None, 'ents_p': None, 'ents_r': None, 'ents_f': None, 'ents_per_type': None, 'cats_score': 0.0, 'cats_score_desc': 'macro F', 'cats_micro_p': 0.0, 'cats_micro_r': 0.0, 'cats_micro_f': 0.0, 'cats_macro_p': 0.0, 'cats_macro_r': 0.0, 'cats_macro_f': 0.0, 'cats_macro_auc': 0.0, 'cats_f_per_type': {}, 'cats_auc_per_type': {}}\n"
     ]
    }
   ],
   "source": [
    "import spacy\n",
    "from spacy.scorer import Scorer\n",
    "from spacy.tokens import Doc\n",
    "from spacy.training.example import Example\n",
    "\n",
    "examples = [\n",
    "    ('Who is Shaka Khan?',\n",
    "     {(7, 17, 'PERSON')}),\n",
    "    ('I like London and Berlin.',\n",
    "     {(7, 13, 'LOC'), (18, 24, 'LOC')})\n",
    "]\n",
    "\n",
    "def evaluate(ner_model, examples):\n",
    "    scorer = Scorer()\n",
    "    example = []\n",
    "    for input_, annot in examples:\n",
    "        pred = ner_model(input_)\n",
    "        print(pred,annot)\n",
    "        temp = Example.from_dict(pred, dict.fromkeys(annot))\n",
    "        example.append(temp)\n",
    "    scores = scorer.score(example)\n",
    "    return scores\n",
    "\n",
    "ner_model = spacy.load('en_core_web_md') # for spaCy's pretrained use 'en_core_web_sm'\n",
    "results = evaluate(ner_model, examples)\n",
    "print(results)"
   ]
  },
  {
   "cell_type": "code",
   "execution_count": null,
   "metadata": {},
   "outputs": [],
   "source": []
  }
 ],
 "metadata": {
  "kernelspec": {
   "display_name": "Python 3",
   "language": "python",
   "name": "python3"
  },
  "language_info": {
   "codemirror_mode": {
    "name": "ipython",
    "version": 3
   },
   "file_extension": ".py",
   "mimetype": "text/x-python",
   "name": "python",
   "nbconvert_exporter": "python",
   "pygments_lexer": "ipython3",
   "version": "3.11.0"
  }
 },
 "nbformat": 4,
 "nbformat_minor": 2
}
