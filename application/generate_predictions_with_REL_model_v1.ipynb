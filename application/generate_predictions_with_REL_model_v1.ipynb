{
 "cells": [
  {
   "cell_type": "code",
   "execution_count": 1,
   "metadata": {},
   "outputs": [],
   "source": [
    "import typer\n",
    "import spacy\n",
    "import srsly\n",
    "import pandas as pd\n",
    "from spacy.tokens import DocBin, Doc, Span\n",
    "from spacy.training.example import Example\n",
    "import random\n",
    "import tqdm"
   ]
  },
  {
   "cell_type": "code",
   "execution_count": 2,
   "metadata": {},
   "outputs": [],
   "source": [
    "# make the factory work\n",
    "from rel_pipe import make_relation_extractor, score_relations\n",
    "\n",
    "# make the config work\n",
    "from rel_model import create_relation_model, create_classification_layer, create_instances, create_tensors"
   ]
  },
  {
   "cell_type": "code",
   "execution_count": 3,
   "metadata": {},
   "outputs": [],
   "source": [
    "# Load the pre-trained model\n",
    "nlp = spacy.load(\"../training/model-best\")"
   ]
  },
  {
   "cell_type": "code",
   "execution_count": 6,
   "metadata": {},
   "outputs": [
    {
     "name": "stdout",
     "output_type": "stream",
     "text": [
      "\u001b[38;5;4mℹ Could not determine any instances in doc - returning doc as is.\u001b[0m\n",
      "\u001b[38;5;4mℹ Could not determine any instances in doc - returning doc as is.\u001b[0m\n",
      "\u001b[38;5;4mℹ Could not determine any instances in doc - returning doc as is.\u001b[0m\n",
      "\u001b[38;5;4mℹ Could not determine any instances in doc - returning doc as is.\u001b[0m\n",
      "\u001b[38;5;4mℹ Could not determine any instances in doc - returning doc as is.\u001b[0m\n",
      "\u001b[38;5;4mℹ Could not determine any instances in doc - returning doc as is.\u001b[0m\n",
      "\u001b[38;5;4mℹ Could not determine any instances in doc - returning doc as is.\u001b[0m\n",
      "\u001b[38;5;4mℹ Could not determine any instances in doc - returning doc as is.\u001b[0m\n",
      "\u001b[38;5;4mℹ Could not determine any instances in doc - returning doc as is.\u001b[0m\n",
      "\u001b[38;5;4mℹ Could not determine any instances in doc - returning doc as is.\u001b[0m\n",
      "\u001b[38;5;4mℹ Could not determine any instances in doc - returning doc as is.\u001b[0m\n",
      "\u001b[38;5;4mℹ Could not determine any instances in doc - returning doc as is.\u001b[0m\n"
     ]
    }
   ],
   "source": [
    "# Load the jsonl data to predict\n",
    "data = srsly.read_jsonl(\"../assets/goldenV3.jsonl\")\n",
    "data_instances = [eg[\"text\"] for eg in data]\n",
    "\n",
    "# Represent data via DocBin [list of docs]\n",
    "db = DocBin()\n",
    "for text in data_instances:\n",
    "     db.add(nlp(text))\n",
    "     # doc = nlp.make_doc(text)\n",
    "     # db.add(doc)\n",
    "\n",
    "# db.to_disk(\"../data/predictv2.spacy\")"
   ]
  },
  {
   "cell_type": "code",
   "execution_count": 5,
   "metadata": {},
   "outputs": [
    {
     "name": "stdout",
     "output_type": "stream",
     "text": [
      "(Associate Security Analyst, security systems, monitoring and, cyber security systems, security alerts, security advisories, security-related information, cyber security standards, Cyber Security Act 2018, cyber security tools, monitor and, Associate Security Analyst, alert and, monitoring activities, security-related issues, communicates clearly, security operations)\n",
      "(Chief Information Security Officer, security function, security strategy, corporate information, security architecture, Cyber Risk Maturity Model that, security risks, security matters, cyber security compliance, Cyber Security Act 2018, cyber-related applications, hardware technologies, Chief Information Security Officer, corporate information)\n",
      "(Cyber Risk Analyst conducts cyber risk assessment, cyber security standards, analytical or, scientific methods, cyber risk assessment, cyber security standards, Cyber Security Act 2018, cyber security monitoring, Cyber Risk Analyst is, cyber risks, strong team, communicates well)\n",
      "(Cyber Risk Manager guides, cyber risks, cyber security standards, security measures, cyber security standards, Cyber Security Act 2018, cyber security monitoring, cyber risk mitigation, Cyber Risk Manager has a sharp,, analytical mind, communicator who, cooperative working)\n",
      "(Forensics Investigation Manager, cyber-threat, forensics investigation, forensics investigations, cyber security standards, Cyber Security Act 2018, hardware and, software applications, Forensics Investigation Manager, security incidents)\n",
      "(Forensics Investigator, cyber-threat, forensics investigation, cyber-attacks, cyber security standards, Cyber Security Act 2018, hardware and, software applications, Forensics Investigator, analytical approach, creative mitigation, security incidents)\n",
      "(Incident Investigation Manager plans, security response, cyber-incident or, mitigation techniques, cyber security solutions, cyber incident response, cyber-incident reports, cyber security standards, Cyber Security Act 2018, cyber security analysis, Incident Investigation Manager is, monitoring security, developmental leader)\n",
      "(Incident Investigator conducts, cyber threats, detail incident, cyber incidents, communicates findings, cyber security standards, Cyber Security Act 2018, cyber security tools, Incident Investigator is, detail-oriented and adopts a critical, communicates his)\n",
      "(Security Architect, system architectures, security principles, system architecture, infrastructure security, technological advances, infrastructure security, security risks, cyber security standards, Cyber Security Act 2018, hardware technologies, Security Architect, creative and, critical mind, system or, technical expert, developmental and, system architectures, technical leadership)\n",
      "(Security Operations Analyst, real-time analysis, security log, security devices, monitoring system, security events, security issues, mitigation plans, security policies, cyber security standards, Cyber Security Act 2018, cyber security monitoring, Security Operations Analyst, analytical approach, real-time analyses, creative mitigation, security incidents)\n",
      "(Security Operations Manager, monitoring and, security operations, security technologies, security concepts, security operations, security programs, security incidents, cyber security standards, Cyber Security Act 2018, cyber security monitoring, Security Operations Manager, monitoring security, security incidents)\n",
      "(Senior Security Engineer, Security Engineer, system architectures, security principles, system architectures, security principles, system architecture, infrastructure security, security standards, cyber security standards, Cyber Security Act 2018, hardware technologies, Senior Security Engineer, Security Engineer, system architectures)\n",
      "(Analysis Manager, cyber related, cyber threats, proactively monitors, cyber-attacks, cyber-attacks, cyber security standards, cyber security analysis, monitor and, Analysis Manager, alert and, monitoring activities, security-related issues, critical impact, security and, communicates clearly, security operations)\n",
      "(Assessment and, Testing Analyst designs, infrastructure components, codes in, infrastructure components, security standards, Assessment and, Testing Analyst is, cyber security standards, creative and, analytical mind, communicates findings)\n",
      "(Assessment and, Testing Manager plans, infrastructure components, organisational testing, cyber security standards, Assessment and, Testing Manager possesses, strong analytical, critical thinking, communicates outcomes)\n",
      "(Artificial Intelligence /Machine Learning Engineer, artificial intelligence, algorithms for, real-time, unstructured data, science models, statistics,, programming languages, software platforms, Model AI Governance Framework and the Personal, Data Protection Act (PDPA) in the course of his work on AI/ML models. The AI/ML Engineer, problem solving, iterative process)\n",
      "(Artificial Intelligence Applied Researcher is responsible for the design and conduct of artificial intelligence (, research and, research and, statistics,, programming languages, software platforms, Applied Researcher has a strong passion and curiosity for uncovering the possibilities of applying AI to address real-life business challenges and enhance organisation performance.)\n",
      "(Business Intelligence Director, intelligence (, Strategy within the organisation. He oversees the development of testing methodology and criteria, standards, policies and procedures for the structure and attributes of the business intelligence tools and systems. He oversees budgeting and planning. He manages a team and is proficient in the analytics tools and techniques required by the organisation. He is also familiar with the relevant software platforms on which the solution is deployed on. The BI Director, analytical thinking)\n",
      "(Business Intelligence Manager, supervises professionals, intelligence (, communicates findings, researches new, intelligence solutions, software platforms, Manager has a deep passion for analysing and resolving complex problems through a systematic approach. He displays an intellectual curiosity as well as the capability to engage with stakeholders to understand business issues.)\n",
      "(Chief Data Officer, Chief Artificial Intelligence Officer, artificial intelligence, governance framework, Model AI Governance Framework. He/She is accountable for the quality, accessibility, analysis and management of data to inform business strategy, decision-making and drive performance. He designs initiatives and programs to realise the optimal business value derivable from the organisation's data assets. He formulates data and AI project prioritisation and resourcing strategies and establishes performance measures to evaluate outcomes data and AI-driven solutions. He identifies potential intellectual property (, intelligence reports, Chief Data Officer, Chief Artificial Intelligence Officer, strong business, strong leadership)\n",
      "(Data Analyst/Associate, Data Engineer, analytical solutions, software platforms, Data Analyst/Associate, Data Engineer, analytical approach, communicating ideas)\n",
      "(Data Architect, governance frameworks, database systems, programming languages, software platforms, Data Architect, creative mind, strong leadership, communication abilities)\n",
      "(Data Engineer, real-time processing, codes and, infrastructure., database systems, programming languages, software platforms, Data Engineer, architectures.)\n",
      "(Data Scientist, Artificial Intelligence Scientist, analytical solutions, prototyping and, artificial intelligence, science components, database and, computing environments, algorithms suitable, communication materials, statistics,, programming languages, software platforms, Data Scientist, Scientist has strong analytical and critical thinking skills to identify and solve problems. He is passionate about analysing and resolving complex business problems, displaying intellectual curiosity towards using data and AI to address business needs and challenges. He is a data storyteller, and is able to influence key stakeholders and spearhead a data driven approach to resolve business issues.)\n",
      "(Head of Data Science and Artificial Intelligence formulates and implement data and artificial intelligence (, research direction, algorithms and, research and, statistics,, programming languages, software platforms, Head of Data Science and Artificial Intelligence is a highly effective communicator, articulating the potential value and impact of data and AI solutions on the business and influencing key business stakeholders. He is a proactive and innovative individual, possessing a strong drive to succeed amidst an evolving business environment. He develops the data and AI team's technical and leadership capabilities, and ensures compliance to the organisation's data privacy policies, ethics and governance framework, and intellectual property legislation.)\n",
      "(Senior Artificial Intelligence/Machine Learning Engineer, artificial intelligence, communication and, collaboration with, algorithms used, technical areas, statistics,, programming languages, software platforms, Senior AI/Machine Learning Engineer, communicate ideas)\n",
      "(Senior Data Engineer, real-time processing, system changes, database systems, programming languages, software platforms, Senior Data Engineer)\n",
      "(Associate Infrastructure Engineer, infrastructure deployment, infrastructure,, technical infrastructure, infrastructure problems, infrastructure platforms, Associate Infrastructure Engineer, analytical approach)\n",
      "(Associate Network Engineer, network infrastructure, monitoring,, network systems, network components, security,, network incidents, network activities, networking technologies, network standards, network routing, Associate Network Engineer, analytical skills)\n",
      "(Associate Radio Frequency Engineer, wireless networks, network infrastructure, wireless communications, wireless networks, wireless network, wireless networking, simulation software, programming languages, database servers, Associate Radio Frequency Engineer, detail-oriented and enjoys problem)\n",
      "(Automation and, Orchestration Engineer, network operations, network requirements, network blueprint, network slices, network to, network performance, infrastructure components, algorithms,, automates network, networking and, infrastructure architecture, high-level design, system integration, network environment, network slices, Automation and, Orchestration Engineer, creative problem, solver,, strong mindset, verbal communication, strong advocate, collaborating across)\n",
      "(Head of Infrastructure establishes organisation's overall IT infrastructure strategy and roadmap to transition the organisation towards its future-state IT infrastructure. He/She advices on the development of IT infrastructure standards and governance policies and processes for operations, as well as capabilities and constraints of the IT infrastructure environment. He establishes governance policies, standards, procedures and guidelines to ensure that IT infrastructure architecture, solutions, and technologies are aligned with the organisation's vision and strategy. He builds strong partnership with key stakeholders from a strategic and operational perspective to ensure alignment with business requirements and expectations. He is an proficient with  enterprise architecture methodologies and frameworks, architecture modelling tools, as well as product development methodologies. He is knowledgeable of various cloud, network, storage and security technologies, as well as cloud computing models and services. The Head, Infrastructure is)\n",
      "(Infrastructure Architect translates, infrastructure architecture, infrastructure architecture, critical infrastructure, infrastructure architecture, infrastructure architecture, infrastructure., infrastructure architecture, infrastructure performance, network,, security technologies, computing models, Infrastructure Architect adopts, analytical and, infrastructure design, strong communication)\n",
      "(Infrastructure Engineer is, infrastructure across, network infrastructure, infrastructure deployment, infrastructure solutions, infrastructure systems, infrastructure systems, Infrastructure Engineer takes, critical and, infrastructure projects, monitoring., high standards, collaborates with)\n",
      "(Infrastructure Engineering Manager drives, infrastructure operations, project resource, infrastructure implementation, infrastructure operations, infrastructure systems, server and, network infrastructure, infrastructure deployment, technical and, infrastructure to, collaboration between, Infrastructure Engineering Manager is, project resources, communicates well)\n",
      "(Network Engineer is, Software Defined, Network (SDN) infrastructure., network infrastructure, network equipment, software to, network performance, security standards, collaborates across, network and, network slicing, networking systems, wireless controls, network standards, network routing, Network Engineer is, strong analytical)\n",
      "(Radio Frequency Engineer, wireless networks, wireless communication, radio networks, network teams, wireless networking, technical specifications, wireless networks, simulation software, programming languages, database servers, Radio Frequency Engineer, analytical thinker, problem-solver, communication skills, collaborative working)\n",
      "(Engineer is responsible for the configuration, reliability and efficiency of systems. He/She optimises the capacity and performance of infrastructure, using knowledge of coding and scripting to automate the resolution of recurring issues and elimination of tasks, as well as enabling scalable and distributed systems. He also supports system installation and upgrades, performs continuous monitoring of infrastructure and ensures security and compliance in leveraging cloud platforms. He possesses a high level of proficiency in scripting and programming languages. He is familiar with cloud platforms, scaling and management of infrastructure. He works well with a variety of internal and external stakeholders. He is able to work on an on-call and shift basis, with the ability to prioritise effectively and operate under pressure. The SysOps Engineer, problem-solving, analytical thinker, strong interpersonal, collaboration.)\n",
      "(Chief Information Officer, governance policies, security,, project management)\n",
      "(Applications Support Engineer is, software applications, software., software testing, monitoring tools, software platforms, Applications Support Engineer uses, critical thinking, solve problems, technical challenges, strong interpersonal)\n",
      "(Associate Applications Support Engineer, software applications, software., monitoring tools, software platforms, Associate Applications Support Engineer, critical thinking, solve problems, technical challenges, strong interpersonal)\n",
      "(Associate Data Centre Operations Engineer, monitoring service, database administration, infrastructure concepts, database management, software platforms, database is, Associate Data Centre Operations Engineer, collaboration with, communicate effectively, high service level)\n",
      "(Associate Database Support Engineer, database technologies, system improvements, database meets, database infrastructure, project planning, database related, database administration, database management, software platforms, database is, Associate Database Support Engineer, solve issues, collaboration with, communicate effectively, high service level)\n",
      "(Associate Infrastructure Support Engineer, infrastructure operations, monitoring infrastructure, infrastructure systems, network-related tools, software platforms, database is, Associate Infrastructure Support Engineer, solve issues, collaboration with, communicate effectively, high service level)\n",
      "(Associate Operations Centre Support Engineer, monitoring and, hardware and, software components, system., technical and, database systems, network and, infrastructure,, monitoring tools, software platforms, Associate Operations Centre Support Engineer, strong critical, technical challenges)\n",
      "(Associate Systems Support Engineer, system improvements, system failures, system backups, security standards, infrastructure systems, network-related tools, database is, Associate Systems Support Engineer, solve issues, collaboration with, communicate effectively, high service level)\n",
      "(Data Centre Operations Engineer, logging data, corporate server, server installation, hardware and, cable patching, server through, server farm, switches., database administration, infrastructure concepts, database management, software platforms, database is, Data Centre Operations Engineer, solve issues, collaboration with, communicate effectively, high service level)\n",
      "(Database Support Engineer, technical knowledge, database administration, database improvements, database performance, database related, database security, database administration, database management, software platforms, database is, Database Support Engineer, collaboration with, communicate effectively, high service level)\n",
      "(Head of Operations and Support drives the vision and strategy for the IT Operations and Support functions. He/She sets the direction for systems and database administration, day-to-day IT support and operations, data centre operations and system and quality assurance through the delivery of services as per business requirements; controls costs and manages vendors. He is responsible for formulating strategies for service level agreements. He ensures compliance with organisation's quality standards, international standards and government regulations. He is a leader with the energy and commitment to drive large teams toward achieving service level excellence. He is familiar with enterprise architecture frameworks, database administration and systems, and application monitoring tools. The Head, Operations and Support has a broad sense of perspective with the ability to influence key internal and external stakeholders. He is strategic in his approach to managing resources and developing capabilities within the team. He is effective in setting direction aligned to the strategic positioning of the business and the IT functions overall. He is able to impress upon the team the need to continuously improve service levels and increase efficiencies.)\n",
      "(Infrastructure Support Engineer assists, infrastructure planning, technical infrastructure, infrastructure problems, Infrastructure systems, Network related, software platforms, database is, Infrastructure Support Engineer is, collaboration with, communicate effectively, high service level)\n",
      "(Operations and Support Manager, database administration, database and, professional staff, database administration, monitoring tools, Operations and Support Manager, system environment, critical elements, motivate key)\n",
      "(Operations Centre Support Engineer, hardware and, software teams, software and, hardware components, solve problems, database systems, network and, infrastructure,, monitoring tools, software platforms, Operations Centre Support Engineer, critical thinking, creative skills, technical challenges)\n",
      "(Systems Support Engineer undertakes, system provisioning, monitoring and, system performance, system improvements, Infrastructure systems, Network related, database is, Systems Support Engineer is, solve issues, collaboration with, communicate effectively, high service level)\n",
      "(Associate Product Analyst performs market analysis to support product decisions. He/She gathers data available externally and internally to generate reports and prepare the data for analysis. He collects, cleans, analyses and visualises large datasets to create actionable insights. He executes the end-to-end product analysis. \n",
      "\n",
      "He supports the product development team and uses analytical tools and techniques as required by the team. He is familiar with the product offerings and provides data-driven insights. \n",
      "\n",
      "The Associate, Product Analyst, analytical approach, communicating ideas)\n",
      "(Associate Product Designer assists in executing the design and development of the product line lifecycle, including the end-to-end iterative design process. He/She supports product development in the conceptualisation and design phase, including research performance, job stories creation, journey mapping, content modelling, wire-framing, prototyping, user testing, and high-fidelity visuals generation to achieve design solutions.\n",
      "\n",
      "He works on design concepts and drawings stipulated by the team to create the best product, and works with various teams to assist in brainstorming product ideas and suggest iterations and improvements to product engineers on products based on market feedback. He is familiar with research methodologies to perform research on product technologies and frameworks to apply to design concepts, is well-versed in product development lifecycles and stays abreast of the latest emerging industry trends in terms of product design. \n",
      "\n",
      "The Associate, Product Designer, strong communicator)\n",
      "(Associate Product Manager, Product Manager, research on, research on, collaboration and, Associate Product Manager, creative strategies, communicator to)\n",
      "(Back End Developer codes and develops server-side systems to support core product functionality and offering. He/She identifies security risks and ensures coding standards meet security requirements. He executes specifications and features for the next iteration of the product based on user needs and feedback, and continuously integrates code changes. He provides support to the quality testing teams.\n",
      "\n",
      "He works in a team setting and is proficient in programming languages required by the organisation. He is familiar with software development tools and standards.\n",
      "\n",
      "The Back, Developer is innovative in developing a range of product designs and solutions. He supports others in the team and is confident in communicating ideas to the team in a clear and compelling manner.)\n",
      "(Chief Product Officer, commercial performance, Chief Product Officer, global mindset)\n",
      "(Chief Technology Officer, technical aspects, technological enhancements)\n",
      "(Developer writes clean testable codes and develops client-side systems to support end user’s needs and experience. He/She gathers user feedback to propose improvements to the product’s interface. He provides technical support to develop an intuitive and responsive experience for end users. He supports usability testing to validate user interfaces. He also identifies security vulnerabilities and assists his senior in selecting security tools to aid his senior in addressing these vulnerabilities.\n",
      "\n",
      "He works in a team and is proficient in programming languages required by the organisation to design and develop user interfaces. He is familiar with graphic designing tools and is also knowledgeable in commonly used design methods. He uses various tools to read codes and uncover security vulnerabilities.\n",
      "\n",
      "The Front End Developer is innovative in designing compelling and intuitive user interfaces. He supports others in the team and is confident in communicating ideas to the team in a clear and compelling manner.,)\n",
      "(Stack Developer, codes and, intuitive and, security risks, security requirements, code changes, programming languages, codes and, security vulnerabilities, Stack Developer, intuitive user, communicating ideas, clear and)\n",
      "(Head of Product drives the product development vision and strategy and ensures alignment of the product roadmap with organisational strategy and vision. He/she oversees the development for a suite of products to achieve strategic goals. He establishes relationships with key clients and business partners to drive business and product growth. He distils insights and competitive intelligence with various market analyses to grow the organisation’s business.\n",
      "\n",
      "He works with various teams across the organisation. He is proficient with product development and management practices and tools, as well as various product positioning and pricing methodologies. He keeps abreast of the latest consumer and industry trends and anticipates new trends.\n",
      "\n",
      "The Head, Product adopts a global mindset when distilling market trends and synthesising opportunities for growth. He guides the team to adopt innovative practices and mindsets. He is an influential leader who inspires others to achieve long-term strategic goals and influence.)\n",
      "(Head of Product Analytics identifies actionable solutions for the growth of the organisation. He/She synthesises data from various sources to create a compelling business case. He drives the strategy for gathering, cleaning, analysing and visualising of data. He is responsible for developing organisation-wide guidelines on insight reporting and oversees the end-to-end analysis of products.\n",
      "\n",
      "He is a key member of the product development team and is proficient in data analytics and visualisation. He is well-versed in various product offerings, latest market trends and is aware of the latest technologies to track data insights. He also provides data-driven insights.\n",
      "\n",
      "The Head, Product Analytics has a strong analytical mind and uses critical thinking skills to identify underlying issues and develop practical solutions. He is an influential leader who inspires his team and stakeholders to achieve long-term strategic goals, and influence.)\n",
      "(Head of Design strategises the design and development of the product line lifecycle, including the end-to-end iterative design process. He/She establishes design policy principles to drive product development in the conceptualisation and design phase, including endorsement of design strategies, and achieving design solutions based on insights researched by the team\n",
      "\n",
      "He provides insightful directives based on the evaluation of design concepts and drawings by the team to determine the best product and ensure that it is aligned to the latest market trends. He has a strong understanding on how product technologies and frameworks can formulate impactful design concepts, is well-versed in product development lifecycles and stays abreast of the latest emerging industry trends in terms of product design. \n",
      "\n",
      "The Head, Design adopts a global mindset while distilling market trends to incorporate them into novel product design strategies, with a clear view of how this sits, strong communicator)\n",
      "(Head of Quality &, Risk is responsible for development a quality and risk assessment strategy that addresses all phases of product development, as well as governance frameworks for managing quality and test automation. He/She reviews quality and risk management policies and standards to ensure compliance with regulatory requirements and international standards. He defines the approaches and procedures in the identification, selection and assessment of quality and risk standards for adoption, documentation for test reporting and risk assessments, and review of quality and risk standards.  He provides technical inputs on approaches and conduct of quality testing and risk assessments and recommend solutions to resolve significant quality lapses and potential risks that may emerge. He also reviews quality test reports, risk assessments and outcomes to approve product. \n",
      "\n",
      "He works in a team setting and is proficient in programming languages required by the organisation. He is familiar with international quality and risk management standards and processes, as well as applicable test automation tools. \n",
      "\n",
      "The Head, Quality &, Risk manages the quality of and risk in infocomm technology products from end to end and is able to readily integrate and apply knowledge from multiple disciplines. He develops innovative and effective solutions to issues encountered, communicate his plans and advice in a clear and compelling manner that inspires action.)\n",
      "(Head of Software Engineering defines the software development vision and strategy. He/She also ensures alignment with the organisation’s architecture. He anticipates the impact of external technological developments on the organisation's software architecture and strategy, ensuring that the software development strategy and processes keep pace with the latest data protection and cyber security practices and guidelines. He maintains oversight on the organisation’s software deployment strategy, facilitates the seamless implementation and integration of software, and oversees the translation of business requirements to software development initiatives and projects. He also evaluates the viability of recommended changes in software development methodologies, processes and standards for implementation.\n",
      "\n",
      "He works in a team setting and is proficient in programming languages required by the organisation. He is familiar with the relevant platforms and embedded systems on which the software solution is deployed on. He is also knowledgeable of microprocessor and microcontroller-based hardware components.\n",
      "\n",
      "The Head, Software Engineering liaises and, software and, communicates his)\n",
      "(Lead Product Analyst, supervises the, Lead Product Analyst, strong analytical, critical thinking)\n",
      "(Lead Product Designer, iterative design, strong understanding, Lead Product Designer, clear view, strong communicator)\n",
      "(Lead Product Manager, research studies, Lead Product Manager, communicates well, strong,)\n",
      "(Product Analyst, supervises the, Product Analyst, strong analytical, critical thinking)\n",
      "(Product Designer, iterative design, research performance, wire-framing, prototyping,, high-fidelity visuals, research methodology, research outputs, Product Designer, strong communicator)\n",
      "(Product Manager, Product Manager, creative strategies, communicator to)\n",
      "(Product Risk Analyst, Product Risk Manager, mitigation activities, research on, analytical in, Product Risk Analyst, communicating findings, clear and)\n",
      "(Product Risk Manager, Product Risk Analyst, mitigation activities, research on, monitoring and, analytical in, Product Risk Manager, communicator to)\n",
      "(Product Security Engineer, cyber risk assessment, security issues, cyber security standards, analytical or, scientific methods, cyber risk assessment, real-time analysis, security log, security devices, security events, cyber security standards, Cyber Security Act 2018, cyber security monitoring, Product Security Engineer, cyber risks, analytical approach, real-time analysis, communicates well)\n",
      "(Product Security Engineering Manager, cyber risks, cyber security standards, monitoring and, security operations, security measures, cyber security standards, Cyber Security Act 2018, cyber security monitoring, cyber risk mitigation, solve cybersecurity, Product Security Engineering Manager, analytical and, cyber security risks, communicator and, cooperative working)\n",
      "(Quality Assurance Engineer, software development, software design, code development, software., programming languages, Quality Assurance Engineer)\n",
      "(Quality Assurance Manager, governance framework, system tests, project steps, project or, programming languages, Quality Assurance Manager, high service standards, communicate his)\n",
      "(Quality Engineer, automates quality, programming languages, Quality Engineer, strong analytical, communication and)\n",
      "(Quality Engineering Manager, infrastructures,, programming languages, Quality Engineering Manager, strong analytical, communication and)\n",
      "(Senior Back End Developer designs, develops, tests, debugs and implements server-side systems to support core product functionality and offering. He/She identifies security risks and ensures coding standards meet security requirements. He determines specifications and features for the next iteration of the product based on user needs and feedback, and continuously integrates code changes. He provides guidance and technical support to the quality testing teams.\n",
      "\n",
      "He works in a team setting and is proficient in programming languages required by the organisation. He is proficient in software development tools and standards.\n",
      "\n",
      "The Senior, Back End Developer is innovative and methodical in developing new and improved product designs and solutions. He engages, leads others in the team, and is confident in communicating ideas to the team in a clear and compelling manner.)\n",
      "(Senior Front End Developer reviews and guides teams in writing clean testable codes, developing designs, tests, and debugs, and implements client-side systems to support end user’s needs and experience. He/She synthesises user feedback to implement and design improvements to the product’s interface. He provides technical expertise to develop an intuitive and responsive experience for end users. He conducts usability testing to validate user interfaces. He also evaluates security vulnerabilities and use security tools to address vulnerabilities.\n",
      "\n",
      "He works in a team and is proficient in programming languages required by the organisation to design and develop user interfaces. He is proficient with graphic designing tools and is also knowledgeable in current and emerging design methods. He uses various tools to evaluate these codes and mitigate security vulnerabilities.\n",
      "\n",
      "The Senior, Developer is innovative in designing compelling and intuitive user interfaces. He engages, leads others in the team, and is confident in communicating ideas to the team in a clear and compelling manner.)\n",
      "(Senior Full Stack Developer reviews and guides teams in developing both front end and back-end systems that balances product functionality with user experience and needs. He/She synthesises user feedback to implement and design improvements to the product’s interface. He provides technical expertise to develop an intuitive and responsive experience for end users. He conducts usability testing to validate user interfaces. He determines specifications and features for the next iteration of the product based on user needs and feedback, and continuously integrates code changes. He also evaluates security vulnerabilities and uses security tools to address vulnerabilities.\n",
      "\n",
      "He works in a team and is proficient in programming languages required by the organisation. He is proficient with graphic designing tools and is also knowledgeable in current and emerging design methods. He uses various tools to evaluate these codes and mitigate security vulnerabilities.\n",
      "\n",
      "The Senior, Stack Developer, intuitive user, communicating ideas, clear and)\n",
      "(Site Reliability, Engineer is responsible for monitoring the performance, reliability, availability, latency and security of systems, ensuring that they meet the requirements of internal and external users. He/She optimises system performance with automation to improve system quality and reliability. He conducts regular system maintenance and is responsible for incident response. \n",
      "\n",
      "He possesses a high level of proficiency in developing scalable systems. He is familiar with cloud platforms and managing system infrastructure. He works well with internal and external stakeholders to manage the demands of both. He collaborates with the development team to provide solutions that meet operational demands for high reliability and security.\n",
      "\n",
      "The Site Reliability Engineer, problem solver, analytical thinker)\n",
      "(Site Reliability, Engineering Manager, system operations, technical and, system development, security technologies, computing models, collaborates with, high reliability, security., Site Reliability, Engineering Manager, strong communicator)\n",
      "(Software Architect analyses, software architectural, software architecture, governance process, governance structure, software level, software architecture, software development, Software Architect is, creative,, architectures and)\n",
      "(Software Engineering Manager focuses, software and, security requirements, technical specifications, Concept for solutions and provides technical expertise on the development of software and platform features, ensuring appropriate security and risk factors are considered. He manages the implementation of software and platform solutions, and leads effort in improving the scalability, reliability, and performance of software/platform.\n",
      "\n",
      "He leads a team and is responsible for managing projects and resources of the team, as well as coaching team members to build technical and leadership capabilities. He is proficient in programming languages required by the organisation. He is familiar with software development tools and standards and deploy solutions on relevant software platforms. \n",
      "\n",
      "The Software Engineering, Manager applies critical and analytical thinking toward developing optimal application solutions. He is a strong leader, is decisive, engages, influences and communicates his ideas persuasively to others.)\n",
      "(Business Development Manager, networking,, networking events, Business Development Manager, clear and, high levels, creative in)\n",
      "(Channel Sales Manager utilises strategies, channel partners, channel partner, channel sales, channel partner, channel partners, Channel Sales Manager is, channel sales, communicates product, channel sales)\n",
      "(Customer Success Director, critical success, educational resources, Customer Success Director, analytical and, strong interpersonal)\n",
      "(Customer Success Manager, Customer Success Manager, strong analytical, problem solving, creative thinker)\n",
      "(Head of Sales defines, articulates and implements the organisation's vision and strategy for direct and indirect selling of products and/or services. He/She develops sales forecasts, budget and manpower plans; and focuses on executing key growth sales strategies, tactics and action plans required to achieve revenue or sales targets. He advises on the formulation of strategies to secure technical wins, networking events, Head of Sales is driven to achieve target and deadlines and is able to prioritise objectives and influence stakeholders towards consensus. He is able to establish a vision and strategic direction for the sales team that is aligned with business objectives, while at the same time takes into account client needs. He enjoys networking and building long-lasting relationships with clients and partners.)\n",
      "(Marketing Director, communications (, research and, strong business, strong client)\n",
      "(Marketing Executive, research,, collaborative environment, analytical to)\n",
      "(Marketing Manager, communications (, monitoring budgets, digital content, collaborative and, strong business, strong interpersonal, high level of initiative.)\n",
      "(Pre-Sales, Consultant is responsible for providing pre-sales technical expertise to the sales team and clients during the sales process. He/She delivers presentations and technical demonstrations of the organisation's products to prospective clients. He translates the client's business requirements into technical specifications and requirements, and provides technical inputs for proposals, tenders, bids and any relevant documents. He uses prescribed guidelines or policies to analyse and solve problems. He works in a fast-paced and dynamic environment, and travels frequently to clients' premises for technical sales pitches and meetings. He is familiar with client relationship management and sales tools. He possesses deep product and technical knowledge, and is knowledgeable of the trends, developments and challenges of the industry domain. The Pre-Sales, Consultant displays effective listening skills and is inquisitive in nature. He possesses deep technical and domain knowledge, pays attention to detail, and has strong analytical and problem-solving capabilities. He has a service-oriented personality and is a team player who works towards developing solutions collaboratively.)\n",
      "(Pre-Sales, Director defines and articulates the organisation's strategy for securing technical wins, technical sales, technical knowledge, Pre-Sales, Director is target-driven and client centric, and has the ability to foster collaboration between stakeholders. He has a deep understanding of key business industries and knowledge of products and services in the market. He is strongly committed to developing talent and inspires his team members to pursue a common vision.)\n",
      "(Sales Account Manager, Sales Account Manager, trust with)\n",
      "(Sales Director, professional staff, communicates and, technical proposals, Sales Director, creative and)\n",
      "(Sales Executive identifies and qualifies prospective clients, seek opportunities for new sales through client and market research. He/She keeps clients informed of new products/service offerings and assists with translating client and channel partner needs into actionable insights. He provides administrative support to the sales teams, including the development of channel sales product promotions and co-marketing activities. He responds to technical and procedural questions, coordinates the formulation of price quotations, submission of sales contract for orders and maintenance of customer records. He supports the training and guides channel sales partners about product and/or service offerings and features based on mutual performance objectives. He works in a fast-paced and dynamic environment, and travels to clients' premises for meetings as and when required. He is familiar with client relationship management and sales tools. He is knowledgeable of the organisation's products and services, as well as trends, developments and challenges of the industry domain. The Sales, Executive is self-motivated and mindful of placing the client's interests at the forefront of his/her priorities. He is able to confidently explain how the product can add value to the customer and is proactive in identifying and addressing client needs. He is a team player who is able to take rejection as a personal challenge to succeed when given the next opportunity.)\n",
      "(Associate Embedded Systems Engineer, software design, real-time and within the device, simulation tools, security standards, engineering resilience, software stack, programming languages, hardware components, Associate Embedded Systems Engineer)\n",
      "(Associate Software Engineer, software applications, supervision to, security vulnerabilities, technical support, programming languages, software development, software platforms, Associate Software Engineer, analytical thinking, strong team, communicates his)\n",
      "(Associate User Interface Designer, technical specifications, programming of, intuitive and, programming languages, Universal Principles of, Design as well as commonly used design methods. The Associate, Designer adopts a broad perspective to user interface design concepts, and is open to exploring new possibilities in the development of user interface of software products. He is adept at interpreting data and using it to propose recommendations that may enhance the user experience.)\n",
      "(Engineer is responsible for the design and implementation of applications build, release, deployment and configuration activities, and is a team member for the agile development process. He/She builds the continuous integration and continuous deployment pipeline and prioritises development items in the pipeline. He develops Proof-of-Concepts to evaluate feasibility of the software application and tools for the development team, and develops suitable application and tools. He determines specifications and features for the next iteration of software application development based on user needs and feedback, continuously integrates code changes, and conducts various automated testing to ensure the software application remains functional. He also performs continuous deployment through automating the deployment process, and manages the releases of software application versions and features. He works with internal business partners to gather requirements, prototyping, architecting, implementing and/or updating solutions, building and executing test plans, performing quality reviews, managing operations, and triaging and fixing operational issues. He works in a fast-paced environment and must be able to adjust to constant business change, evolving goals and strategies, and emerging technologies. He is proficient in programming languages required by the organisation, and is familiar with continuous integration and deployment tools, relevant platforms, automated testing tools, and configuration management tools. He is also knowledgeable of crypto primitives, authentication protocols and authorisation standards. The DevOps Engineer, analytical in, strong communication)\n",
      "(Systems Engineer envisions, collaborates with, hardware team, software development, security aspects, software tools, programming languages, hardware components, Systems Engineer is, creative in, system solutions)\n",
      "(Systems Engineering Manager plans, system design, project life, communicates with, system design, technical capabilities, hardware components, Systems Engineering Manager manages a, analytical and, system design)\n",
      "(Head of Software Engineering defines the software development vision and strategy and ensure alignment with the organisations architecture. He/She anticipates the impact of external technological developments on the organisation's software architecture and strategy, and ensures that the software development strategy and processes keeps pace with the latest data protection and cyber security practices and guidelines. He maintains oversight on the organisations software deployment strategy, facilitates the seamless implementation and integration of software, and oversees the translation of business requirements to software development initiatives and projects. He also evaluates viability of recommended changes in software development methodologies, processes and standards for implementation. He works in a team setting and is proficient in programming languages required by the organisation. He is familiar with the relevant platforms and embedded systems on which the software solution is deployed on. He is also knowledgeable of microprocessor and microcontroller based hardware components. The Head, Software Engineering liaises and, software and, communicate his)\n",
      "(Lead User Interface Designer, technical inputs, intuitive and, research and, programming languages, Universal Principles of, Design and commonly used Design Methods. The Lead, User Interface Designer draws, technical systems, communicator and, creative and)\n",
      "(Software Architect analyses, software architectural, software architecture, governance process, governance structure, software level, software architecture, software development, Software Architect is, creative,, architectures and)\n",
      "(Software Engineer leads, software applications, security risks, security issues, security requirements, software configuration, software releases, technical support, programming languages, software development, software platforms, Software Engineer is, creative in, clear and)\n",
      "(Software Engineering Manager focuses, software and, security requirements, technical specifications, Concept for solutions, and provides technical expertise on the development of software and platform features, ensuring appropriate security and risk factors are considered. He manages the implementation of software and platform solutions, and leads effort in improving the scalability, reliability and performance of software and platform. He leads a team and is responsible for managing projects and resources of the team, as well as coaching team members to build technical and leadership capabilities. He is proficient in programming languages required by the organisation. He is familiar with software development tools and standards, as well as the relevant software platforms on which the solution is deployed on. The Software Engineering, Manager applies critical and analytical thinking toward developing optimal application solutions. He is a strong leader who is decisive, able to engage, influence and communicate his ideas persuasively to others.)\n",
      "(User Interface Designer determines, technical specifications, intuitive and, communicates the, programming languages, Universal Principles of, Design and commonly used Design Methods. The UI Designer, communicate his, clear and)\n",
      "(Associate Business Analyst assists in the identification and analysis of business requirements and systems specifications. He/She conducts feasibility studies and analysis on the risk and benefits of proposed solutions. He analyses systems and processes to identify enhancement opportunities to resolve system gaps, evaluates the ability of an existing system to support proposed changes, and identifies systems deficiencies and performance gaps. He assists with translating business requirements into functional specifications, and documents specifications and interfaces between legacy and new systems, and systems enhancements and detailed specifications. He supports users on change control and systems updates and User Acceptance Testing and integration testing in accordance with the implementation plan. He is knowledgeable of techniques to elicit and manage requirements, as well as software development models including Agile methodologies. He is also familiar with requirements life cycle management, analysis planning and monitoring, requirements analysis and design definition. The Associate, Business Analyst, analytical mind, system solutions)\n",
      "(Associate User Experience Designer, research on, supervision to, software., Associate UX Designer, analytical in)\n",
      "(Business Analyst, Artificial Intelligence (, Translator serves as the liaison between the business and technical teams in translating complex business needs into technological solutions. He/She analyses business technology requirements and specifications against value and risk of potential solutions, and conducts cost-benefit and risk assessment analysis for proposed solutions to determine suitability of solutions. He examines interactions between systems elements, systems performance and issues, and designs the solution blueprint for the specific area of expertise with the consideration of implications for integration across the entire solution. He translates business requirements and user needs into functional and technical specifications, ensuring that business requirements are incorporated into the solution design. He develops multi-disciplinary technical expertise to support senior management in complex projects, as well as reviews work at critical milestones with team leader or sponsor to maintain their commitment and support. He is knowledgeable of techniques to elicit and manage requirements, as well as software development models including Agile methodologies. He is also familiar with requirements life cycle management, analysis planning and monitoring, requirements analysis and design definition. The Business Analyst, Translator is able to see connections between business and IT needs of an organisation in order to develop and communicate effective system solutions. He thrives and easily draws trends from ambiguous circumstances, and addresses complex issues with sound judgement and decisions.)\n",
      "(Business Architect, governance process, governance structure, organisational design, Business Architect, strong situational, problem solving, communication skills)\n",
      "(Data Protection Executive, governance policies, collaborates with, project teams, Personal Data Protection Act requirements in the organisation. He works in a team setting and is knowledgeable of data governance, compliance and data protection policies and frameworks. He is also well versed in data breach mitigation techniques and procedures. He should be familiar with the requirements of the Personal Data Protection Act 2012. As one who is responsible for handling queries, complaints and disputes on the organisations management of personal data, the Data, Executive is confident in making critical decisions and providing quick and impactful resolutions.)\n",
      "(Data Protection Officer, governance policies, Data Protection Act is implemented and enforced in the organisation, and amongst the respective teams and users. He collaborates with business and project teams in projects and ensures alignment and compliance with the organisation's data protection guidelines and policies, and with industry standards and guidelines. He also directs a team of professionals and third-party vendors or service providers to achieve organisational goals in accordance with the data governance and data protection policies. He manages risks and data breach incidents. The Data Protection Officer, governance,, Personal Data Protection Act 2012. The Data Protection Officer, global perspective, critical decisions)\n",
      "(Enterprise Architect leads the, technical and, organisational goals, research strategy, research and, system impact, architectures and, organisational design, Enterprise Architect effectively, communication abilities)\n",
      "(Data Protection Officer, governance policies, Data Protection Act is implemented and enforced within the respective teams and users within the organisation. He partners with business and project teams to support business objectives and strategies and align them with the organisation's data protection guidelines and policies. He directs a team of professionals and third-party vendors or service providers towards reaching organisational goals in accordance with the data governance and data protection policies. He manages risks and data breach incidents. The Group Data Protection Officer, Personal Data Protection Act 2012. He also provides expert advice to the organisation on the potential implications of data protection on the organisations policies, procedures and projects. The Group Data Protection Officer, communicating across)\n",
      "(Head of IT Audit develops the organisation's IT audit framework to manage regulatory and operational risks to safeguard IT assets. He/She defines key objectives and guiding principles for the formulation of IT risk management programs, as well as procedures for documenting and updating policies, standards, guidelines relating to the management of IT assets. He advices on the development of IT audit plans and ensures that audit plans comply with regulatory, operational, security risks and relevant internal auditing standards. He oversees the conduct of audits, respective investigations into non-compliance and risks identified from audits. He overlooks new IT policies, systems and processes necessary for enhancing IT controls and mitigate risks. He consults with and advises senior leaders regarding internal controls and security procedures, prepares activity and progress reports relating to the IT audit function. He also guide team members on procedures, technical problems, priorities, and methods to develop audit capabilities. He works in a dynamic environment due to rapid changes in the IT landscape. He is knowledgeable of relevant regulatory requirements and internal auditing standards, particularly in the area of technology risk management. The Head, strong leadership, communication abilities)\n",
      "(Head of Product defines the organisations product development vision and strategy, and ensures alignment of the product roadmap with the strategy and vision. He/She anticipates the impacts of internal and external business challenges and market conditions on the organisation's product development roadmap. He oversees the organisations product development process, and enhancements to product portfolios to improve their commercial performance. He guides development teams on issues related to the product design, development and deployment for the product portfolio, and development of differentiated strategies across the lines of business. He distils insights and competitive intelligence with various market analyses to grow the organisations business. He works with various teams across the organisation. He is knowledgeable of product development and management practices and tools, as well as product branding and pricing methodologies. He is also knowledgeable of new and emerging consumer and industry trends. The Head, Product adopts a global mindsets and integrates trends and knowledge from varying sources to chart a compelling vision for the future of product portfolios. He is a charismatic leader who inspires others toward common goals.)\n",
      "(Head of Quality is responsible for development a quality strategy that addresses all phases of product development, as well as governance frameworks for managing quality and test automation. He/She reviews quality management policies and standards to ensure compliance with regulatory requirements and international standards. He defines the approaches and procedures in the identification, selection and assessment of quality standards for adoption, documentation for test reporting, and review of quality standards. He provides technical inputs on approaches and conduct of quality testing, and recommend solutions to resolve significant quality lapses. He also reviews quality test reports and outcomes to approve product. He works in a team setting and is proficient in programming languages required by the organisation. He is familiar with international quality standards and processes, as well as applicable test automation tools. The Head, Quality manages the quality of infocomm technology products from end to end, he is able to readily integrate and apply knowledge from multiple disciplines. He is able to develop innovative and effective solutions to issues encountered, communicate his plans and advice in a clear and compelling manner that inspires action.)\n",
      "(Manager determines objectives and potential impact of IT audit plan arising from changes technological landscape and regulations. He develops an IT audit plan that complies with relevant auditing standards. He/She manages the implementation of IT audit plans and activities, as well as investigation of non-compliance and identified risk to determine required changes to structure, policies, processes and behaviours. He reviews audit findings and assess overall state of IT governance, compliance and risks, including evidences for accuracy and comprehensiveness to support audit conclusions. He reviews audit reports for comprehensiveness and adherence to relevant reporting standards and develops recommendations to enhance IT compliance and strengthen controls against emerging risks. He also provides guidance to team members on the planning and implementation of IT audits. He works in a dynamic environment due to rapid changes in the IT landscape. He is knowledgeable of relevant regulatory requirements and internal auditing standards, particularly in the area of technology risk management. The IT Audit Manager,)\n",
      "(Auditor determines audit objectives and activities by examining changes to the technological landscape, regulations and the organisation's IT assets and technologies to identify potential risks to IT assets. He/She assists in the development of an IT audit plan which includes outlining all workflows and audit activities. He conducts audit activities as per audit plan and analyses IT business controls and processes against organisational and industry standards to identify areas of non-compliance and potential risks. He assists with investigation and the preparation of documentation of work performed and develops reports. He also identifies potential recommendations to enhance compliance and address risks identified. He works in a dynamic environment due to rapid changes in the IT landscape. He is knowledgeable of relevant regulatory requirements and internal auditing standards, particularly in the area of technology risk management. The IT Auditor,)\n",
      "(Lead User Experience Designer, software., Lead UX Designer, global mindset, high-level design, communicating his)\n",
      "(Product Manager, Product Manager, creative strategies, communicator to)\n",
      "(Program Director, organisational goals, Scrum process framework. He works in a team setting and is knowledgeable of Agile practices and methodology, project management methodologies and tools, as well as Scrum process framework. As one who directs multiple programs, the Program Director, global perspective, critical decisions)\n",
      "(Program Manager, project., Scrum process framework. He is proficient in Agile practices and methodology, project management methodologies and tools, as well as Scrum process framework. The Program Manager, communication skills)\n",
      "(Project Manager, Scrum Master, project objectives, project resources, project progress, project management, Scrum process framework and practices. He works in a team setting and is knowledgeable of Agile practices and methodology, project management methodologies and tools, as well as Scrum process framework. The Project Manager, Scrum Master, project timelines, analytical and, communicating solutions, project objectives)\n",
      "(Quality Assurance Engineer, software development, software design, code development, software., programming languages, Quality Assurance Engineer)\n",
      "(Quality Assurance Manager, governance framework, system tests, project steps, project or, programming languages, Quality Assurance Manager, high service standards, communicates his)\n",
      "(Quality Engineer, automates quality, programming languages, Quality Engineer, strong analytical, communication and)\n",
      "(Quality Engineering Manager, infrastructures,, programming languages, Quality Engineering Manager, strong analytical, communication and)\n",
      "(Senior Product Manager, research studies, Senior Product Manager, communicates well, strong,)\n",
      "(Architect analyses, designs and develops roadmaps and implementation plans based on a current versus future state solutions architecture. He/She leads and facilitates the solutions architecture governance processes based on the enterprise architecture governance structure and manages exceptions to architectural standards at a solutions level. He assesses near-term needs to establish business priorities, analyses and develop solutions architectural requirements, and ensures alignment of architectural requirements with the IT strategy. He analyses the current architecture to identify weaknesses and identifies opportunities for improvement, and performs ongoing architecture quality review activities. He works in a dynamic and evolving business environment. He is familiar with enterprise architecture methodologies and frameworks, architecture modelling tools, as well as product development methodologies. He is knowledgeable about digital product development of industrial Internet of Things, applications and web services. He is also familiar with international telecommunications standards and protocols. The Solutions Architect, collaborates with, strong leadership, communication abilities, creative and)\n",
      "(User Experience Designer creates, software., Designer is open-minded to multiple perspectives and methodical in the translation of user and business needs into critical functionalities that optimise user experience. He is creative and is able to present innovative design strategies and ideas to co-workers and stakeholders in a clear and engaging manner.)\n",
      "(Chief Technology Officer, technical aspects, technological enhancements)\n"
     ]
    }
   ],
   "source": [
    "for doc in db.get_docs(nlp.vocab):\n",
    "     print(doc.ents)"
   ]
  },
  {
   "cell_type": "code",
   "execution_count": 7,
   "metadata": {},
   "outputs": [],
   "source": [
    "# Load data into memory\n",
    "doc_bin = DocBin(store_user_data=False).from_disk('../data/test.spacy')\n",
    "# doc_bin = DocBin(store_user_data=False).from_disk('../data/predictv2.spacy')"
   ]
  },
  {
   "cell_type": "code",
   "execution_count": 8,
   "metadata": {},
   "outputs": [],
   "source": [
    "docs = doc_bin.get_docs(nlp.vocab)"
   ]
  },
  {
   "cell_type": "code",
   "execution_count": 6,
   "metadata": {},
   "outputs": [
    {
     "name": "stdout",
     "output_type": "stream",
     "text": [
      "\n",
      "Text: The Associate Security Analyst supports security systems, operations administration, monitoring and maintenance of cyber security systems and applications. He/She monitors security alerts and events. He collects and documents information based on established practices and supports the preparation and publishing of security advisories. He assists with the analysis of security-related information and events, escalation of incidents for validation and remediation. He is required to be on standby with on-call availability with varied shifts including nights, weekends and holidays. He is familiar with cyber security standards, protocols and frameworks, and is required to act in accordance with the Cyber Security Act 2018. He is knowledgeable in using various cyber security tools and techniques to monitor and resolve incidents. The Associate Security Analyst is alert and vigilant in performing monitoring activities and is able to analyse and resolve security-related issues critically. He communicates clearly in his interactions with others and coordinates effectively with his team to perform security operations.\n",
      "spans: [(1, 'Associate Security Analyst', 'OCC'), (5, 'security systems', 'SKILL'), (8, 'operations administration', 'SKILL'), (11, 'monitoring and', 'SKILL'), (15, 'cyber security systems', 'SKILL'), (25, 'security alerts', 'SKILL'), (46, 'security advisories', 'SKILL'), (55, 'security-related information', 'SKILL'), (96, 'cyber security standards', 'SKILL'), (113, 'Cyber Security Act 2018', 'SKILL'), (124, 'cyber security tools', 'SKILL'), (130, 'monitor and', 'SKILL'), (136, 'Associate Security Analyst', 'OCC'), (140, 'alert and', 'SKILL'), (145, 'monitoring activities', 'SKILL'), (154, 'security-related', 'SKILL'), (161, 'communicates clearly', 'SKILL'), (176, 'security operations', 'SKILL')]\n",
      " pair: (1, 5) --> gold labels: ['KNOWS'] --> predicted values: {'KNOWS': 0.51635253, 'HAS': 0.10280369}\n",
      " pair: (1, 8) --> gold labels: ['KNOWS'] --> predicted values: {'KNOWS': 0.5586544, 'HAS': 0.23697613}\n"
     ]
    },
    {
     "ename": "KeyError",
     "evalue": "(1, 11)",
     "output_type": "error",
     "traceback": [
      "\u001b[0;31m---------------------------------------------------------------------------\u001b[0m",
      "\u001b[0;31mKeyError\u001b[0m                                  Traceback (most recent call last)",
      "\u001b[1;32m/Users/fernankiwi/Documents/NER_spacy/application/predict_skills.ipynb Cell 8\u001b[0m line \u001b[0;36m1\n\u001b[1;32m     <a href='vscode-notebook-cell:/Users/fernankiwi/Documents/NER_spacy/application/predict_skills.ipynb#X52sZmlsZQ%3D%3D?line=16'>17</a>\u001b[0m \u001b[39mprint\u001b[39m(\u001b[39mf\u001b[39m\u001b[39m\"\u001b[39m\u001b[39mspans: \u001b[39m\u001b[39m{\u001b[39;00m[(e\u001b[39m.\u001b[39mstart,\u001b[39m \u001b[39me\u001b[39m.\u001b[39mtext,\u001b[39m \u001b[39me\u001b[39m.\u001b[39mlabel_)\u001b[39m \u001b[39m\u001b[39mfor\u001b[39;00m\u001b[39m \u001b[39me\u001b[39m \u001b[39m\u001b[39min\u001b[39;00m\u001b[39m \u001b[39mpred\u001b[39m.\u001b[39ments]\u001b[39m}\u001b[39;00m\u001b[39m\"\u001b[39m)\n\u001b[1;32m     <a href='vscode-notebook-cell:/Users/fernankiwi/Documents/NER_spacy/application/predict_skills.ipynb#X52sZmlsZQ%3D%3D?line=17'>18</a>\u001b[0m \u001b[39mfor\u001b[39;00m value, rel_dict \u001b[39min\u001b[39;00m pred\u001b[39m.\u001b[39m_\u001b[39m.\u001b[39mrel\u001b[39m.\u001b[39mitems():\n\u001b[0;32m---> <a href='vscode-notebook-cell:/Users/fernankiwi/Documents/NER_spacy/application/predict_skills.ipynb#X52sZmlsZQ%3D%3D?line=18'>19</a>\u001b[0m     gold_labels \u001b[39m=\u001b[39m [k \u001b[39mfor\u001b[39;00m (k, v) \u001b[39min\u001b[39;00m gold\u001b[39m.\u001b[39;49m_\u001b[39m.\u001b[39;49mrel[value]\u001b[39m.\u001b[39mitems() \u001b[39mif\u001b[39;00m v \u001b[39m>\u001b[39m \u001b[39m0.7\u001b[39m]\n\u001b[1;32m     <a href='vscode-notebook-cell:/Users/fernankiwi/Documents/NER_spacy/application/predict_skills.ipynb#X52sZmlsZQ%3D%3D?line=19'>20</a>\u001b[0m     \u001b[39mif\u001b[39;00m gold_labels:\n\u001b[1;32m     <a href='vscode-notebook-cell:/Users/fernankiwi/Documents/NER_spacy/application/predict_skills.ipynb#X52sZmlsZQ%3D%3D?line=20'>21</a>\u001b[0m         \u001b[39mprint\u001b[39m(\n\u001b[1;32m     <a href='vscode-notebook-cell:/Users/fernankiwi/Documents/NER_spacy/application/predict_skills.ipynb#X52sZmlsZQ%3D%3D?line=21'>22</a>\u001b[0m             \u001b[39mf\u001b[39m\u001b[39m\"\u001b[39m\u001b[39m pair: \u001b[39m\u001b[39m{\u001b[39;00mvalue\u001b[39m}\u001b[39;00m\u001b[39m --> gold labels: \u001b[39m\u001b[39m{\u001b[39;00mgold_labels\u001b[39m}\u001b[39;00m\u001b[39m --> predicted values: \u001b[39m\u001b[39m{\u001b[39;00mrel_dict\u001b[39m}\u001b[39;00m\u001b[39m\"\u001b[39m\n\u001b[1;32m     <a href='vscode-notebook-cell:/Users/fernankiwi/Documents/NER_spacy/application/predict_skills.ipynb#X52sZmlsZQ%3D%3D?line=22'>23</a>\u001b[0m         )\n",
      "\u001b[0;31mKeyError\u001b[0m: (1, 11)"
     ]
    }
   ],
   "source": [
    "doc_bin = DocBin(store_user_data=True).from_disk('../data/test.spacy')\n",
    "gold_docs = doc_bin.get_docs(nlp.vocab)\n",
    "\n",
    "examples = []\n",
    "for gold in gold_docs:\n",
    "   pred = Doc(\n",
    "       nlp.vocab,\n",
    "       words=[t.text for t in gold],\n",
    "       spaces=[t.whitespace_ for t in gold],\n",
    "   )\n",
    "   pred.ents = gold.ents\n",
    "   for name, proc in nlp.pipeline:\n",
    "       pred = proc(pred)\n",
    "   examples.append(Example(pred, gold))\n",
    "   print()\n",
    "   print(f\"Text: {gold.text}\")\n",
    "   print(f\"spans: {[(e.start, e.text, e.label_) for e in pred.ents]}\")\n",
    "   for value, rel_dict in pred._.rel.items():\n",
    "       gold_labels = [k for (k, v) in gold._.rel[value].items() if v > 0.7]\n",
    "       if gold_labels:\n",
    "           print(\n",
    "               f\" pair: {value} --> gold labels: {gold_labels} --> predicted values: {rel_dict}\"\n",
    "           )\n",
    "   print()"
   ]
  },
  {
   "cell_type": "code",
   "execution_count": 9,
   "metadata": {},
   "outputs": [],
   "source": [
    "def rel_probabilities(threshold=0.5):\n",
    "    examples = []\n",
    "    for gold in docs:\n",
    "        pred = Doc(\n",
    "            nlp.vocab,\n",
    "            words=[t.text for t in gold],\n",
    "            spaces=[t.whitespace_ for t in gold],\n",
    "        )\n",
    "        pred.ents = gold.ents\n",
    "    for name, proc in nlp.pipeline:\n",
    "        pred = proc(pred)\n",
    "    examples.append(Example(pred, gold))\n",
    "    print()\n",
    "    print(f\"Text: {gold.text}\")\n",
    "    print(f\"spans: {[(e.start, e.text, e.label_) for e in pred.ents]}\")\n",
    "    for value, rel_dict in pred._.rel.items():\n",
    "        if rel_dict['KNOWS'] > threshold or rel_dict['HAS'] > threshold:\n",
    "            print(\"value: \", value, \"rel_dict: \", rel_dict)"
   ]
  },
  {
   "cell_type": "code",
   "execution_count": 10,
   "metadata": {},
   "outputs": [
    {
     "name": "stdout",
     "output_type": "stream",
     "text": [
      "\n",
      "Text: The Operations Centre Support Engineer works closely with the hardware and software teams in the organisation. He/She is responsible for implementing and installing new software and hardware components across the organisation. He has to ensure the systems are reliable, monitored, and support operations are conducted in a timely manner. He will also collaborate with stakeholders to serve, observe, own, and solve problems through innovation, reducing friction with production deployments, and increasing availability. He works in a team setting and is proficient in database systems, network and infrastructure, and monitoring tools and techniques required by the organisation. He is also familiar with the relevant software platforms on which the solutions are deployed. The Operations Centre Support Engineer applies critical thinking skills to resolve complex issues. He also applies creative skills in address technical challenges on the job.\n",
      "spans: [(1, 'Operations Centre Support Engineer', 'OCC'), (9, 'hardware', 'SKILL'), (11, 'software teams', 'SKILL'), (27, 'software and', 'SKILL'), (29, 'hardware components', 'SKILL'), (40, 'systems', 'SKILL'), (47, 'support operations', 'SKILL'), (70, 'solve problems', 'SKILL'), (78, 'production deployments', 'SKILL'), (95, 'database systems', 'SKILL'), (98, 'network', 'SKILL'), (100, 'infrastructure', 'SKILL'), (103, 'monitoring tools', 'SKILL'), (119, 'software platforms', 'SKILL'), (129, 'Operations Centre Support Engineer', 'OCC'), (134, 'critical thinking skills', 'SKILL'), (145, 'creative skills', 'SKILL'), (149, 'technical challenges', 'SKILL')]\n",
      "value:  (1, 11) rel_dict:  {'KNOWS': 0.58502346, 'HAS': 0.066881195}\n",
      "value:  (1, 27) rel_dict:  {'KNOWS': 0.5845517, 'HAS': 0.053079076}\n",
      "value:  (1, 40) rel_dict:  {'KNOWS': 0.51107424, 'HAS': 0.025138011}\n",
      "value:  (1, 47) rel_dict:  {'KNOWS': 0.56923133, 'HAS': 0.062723495}\n",
      "value:  (1, 70) rel_dict:  {'KNOWS': 0.7133867, 'HAS': 0.12021113}\n",
      "value:  (1, 78) rel_dict:  {'KNOWS': 0.50382173, 'HAS': 0.046480723}\n",
      "value:  (1, 95) rel_dict:  {'KNOWS': 0.54249305, 'HAS': 0.022982461}\n",
      "value:  (1, 98) rel_dict:  {'KNOWS': 0.57836026, 'HAS': 0.04452455}\n",
      "value:  (1, 100) rel_dict:  {'KNOWS': 0.5909527, 'HAS': 0.093997836}\n",
      "value:  (129, 40) rel_dict:  {'KNOWS': 0.51107424, 'HAS': 0.025138011}\n",
      "value:  (129, 47) rel_dict:  {'KNOWS': 0.56923133, 'HAS': 0.062723495}\n",
      "value:  (129, 70) rel_dict:  {'KNOWS': 0.7133867, 'HAS': 0.12021113}\n",
      "value:  (129, 78) rel_dict:  {'KNOWS': 0.50382173, 'HAS': 0.046480723}\n",
      "value:  (129, 95) rel_dict:  {'KNOWS': 0.54249305, 'HAS': 0.022982461}\n",
      "value:  (129, 98) rel_dict:  {'KNOWS': 0.57836026, 'HAS': 0.04452455}\n",
      "value:  (129, 100) rel_dict:  {'KNOWS': 0.5909527, 'HAS': 0.093997836}\n",
      "value:  (129, 103) rel_dict:  {'KNOWS': 0.61954075, 'HAS': 0.067122184}\n",
      "value:  (129, 119) rel_dict:  {'KNOWS': 0.50761247, 'HAS': 0.050021682}\n",
      "value:  (129, 134) rel_dict:  {'KNOWS': 0.59037924, 'HAS': 0.13565306}\n",
      "value:  (129, 145) rel_dict:  {'KNOWS': 0.62586707, 'HAS': 0.15692689}\n",
      "value:  (129, 149) rel_dict:  {'KNOWS': 0.58636916, 'HAS': 0.11743704}\n"
     ]
    }
   ],
   "source": [
    "rel_probabilities()"
   ]
  },
  {
   "cell_type": "code",
   "execution_count": 12,
   "metadata": {},
   "outputs": [
    {
     "data": {
      "text/plain": [
       "1"
      ]
     },
     "execution_count": 12,
     "metadata": {},
     "output_type": "execute_result"
    }
   ],
   "source": [
    "len(examples)"
   ]
  },
  {
   "cell_type": "code",
   "execution_count": 20,
   "metadata": {},
   "outputs": [
    {
     "name": "stdout",
     "output_type": "stream",
     "text": [
      "name:  tok2vec \tproc:  <spacy.pipeline.tok2vec.Tok2Vec object at 0x2aafdedb0>\n",
      "name:  ner \tproc:  <spacy.pipeline.ner.EntityRecognizer object at 0x2aafbdf50>\n",
      "name:  relation_extractor \tproc:  <rel_pipe.RelationExtractor object at 0x2aafdfdd0>\n"
     ]
    }
   ],
   "source": [
    "# Print the available pipeline procedures\n",
    "for name, proc in nlp.pipeline:\n",
    "     print(\"name: \", name, \"\\tproc: \", proc)\n",
    "     #    pred = proc(pred)"
   ]
  },
  {
   "cell_type": "code",
   "execution_count": 21,
   "metadata": {},
   "outputs": [
    {
     "name": "stdout",
     "output_type": "stream",
     "text": [
      "<spacy.pipeline.tok2vec.Tok2Vec object at 0x2aafdedb0>\n",
      "<spacy.pipeline.ner.EntityRecognizer object at 0x2aafbdf50>\n",
      "<rel_pipe.RelationExtractor object at 0x2aafdfdd0>\n"
     ]
    }
   ],
   "source": [
    "# Example script to retrieve a specific pipeline procedure\n",
    "tok2vec = nlp.get_pipe(\"tok2vec\")\n",
    "# transformer = nlp.get_pipe(\"transformer\")\n",
    "ner = nlp.get_pipe(\"ner\")\n",
    "relation_extractor = nlp.get_pipe(\"relation_extractor\")\n",
    "print(tok2vec)\n",
    "print(ner)\n",
    "print(relation_extractor)\n",
    "# print(transformer)"
   ]
  },
  {
   "cell_type": "code",
   "execution_count": 11,
   "metadata": {},
   "outputs": [
    {
     "name": "stdout",
     "output_type": "stream",
     "text": [
      "<function create_instances.<locals>.<lambda> at 0x2aadb3c40>\n"
     ]
    }
   ],
   "source": [
    "# Example script to retrieve a function from a pipeline procedure\n",
    "get_instances = relation_extractor.model.attrs[\"get_instances\"]\n",
    "print(get_instances)"
   ]
  },
  {
   "cell_type": "code",
   "execution_count": 29,
   "metadata": {},
   "outputs": [],
   "source": [
    "# Predict on a document without modifying it\n",
    "doc1 = nlp(\"The Associate Security Analyst supports security systems, operations administration, monitoring and maintenance of cyber security systems and applications. He/She monitors security alerts and events. He collects and documents information based on established practices and supports the preparation and publishing of security advisories. He assists with the analysis of security-related information and events, escalation of incidents for validation and remediation. He is required to be on standby with on-call availability with varied shifts including nights, weekends and holidays. He is familiar with cyber security standards, protocols and frameworks, and is required to act in accordance with the Cyber Security Act 2018. He is knowledgeable in using various cyber security tools and techniques to monitor and resolve incidents. The Associate Security Analyst is alert and vigilant in performing monitoring activities and is able to analyse and resolve security-related issues critically. He communicates clearly in his interactions with others and coordinates effectively with his team to perform security operations.\")\n",
    "doc2 = nlp(\"The Chief Information Security Officer develops and drives the vision for the information security function. He/She acts as the authority for the development and enforcement of organisation security strategy, standards and policies, and has ultimate responsibility for ensuring the protection of corporate information. He guides the design and continuous improvement of the IT security architecture and Cyber Risk Maturity Model that balances business needs with security risks. He advises the board and top executives on all security matters and sets directions for complying with regulatory inquiries, legal and compliance regulations, inspections and audits. He is an expert in cyber security compliance standards, protocols and frameworks, as well as the Cyber Security Act 2018. He is keeps abreast of cyber-related applications and hardware technologies and services, and is constantly on the look-out for new technologies that may be leveraged on to enhance work processes, or which may pose as potential threats. The Chief Information Security Officer is an inspirational and influential leader, who displays sound judgement and decisiveness in ensuring that corporate information is well protected and secured. He is strategic in his approach toward resource management and capability development among his teams.\")\n",
    "doc3 = nlp(\"The .NET Framework is a software framework developed by Microsoft that runs primarily on Microsoft Windows. It includes a large class library called Framework Class Library (FCL) and provides language interoperability across several programming languages. Programs written for .NET Framework execute in a software environment named the Common Language Runtime (CLR). The CLR is an application virtual machine that provides services such as security, memory management, and exception handling. As such, computer code written using .NET Framework is called \\\"managed code\\\". FCL and CLR together constitute the .NET Framework.\")\n",
    "doc4 = nlp(\"\\nDefined by Microsoft for use in recent versions of Windows, an assembly in the Common Language Infrastructure (CLI) is a compiled code library used for deployment, versioning, and security. There are two types: process assemblies (EXE) and library assemblies (DLL). A process assembly represents a process that will use classes defined in library assemblies. CLI assemblies contain code in CIL, which is usually generated from a CLI language, and then compiled into machine language at run time by the just-in-time compiler. In the .NET Framework implementation, this compiler is part of the Common Language Runtime (CLR).\")\n",
    "doc5 = nlp(\"10 Gigabit Ethernet is a group of computer networking technologies for transmitting Ethernet frames at a rate of 10 gigabits per second. It was first defined by the IEEE 802.3ae-2002 standard. Unlike previous Ethernet standards, 10 Gigabit Ethernet defines only full-duplex point-to-point links which are generally connected by network switches; shared-medium CSMA/CD operation has not been carried over from the previous generations Ethernet standards so half-duplex operation and repeater hubs do not exist in 10GbE.\")"
   ]
  },
  {
   "cell_type": "code",
   "execution_count": 30,
   "metadata": {},
   "outputs": [
    {
     "name": "stdout",
     "output_type": "stream",
     "text": [
      "spans: [(1, 'Gigabit Ethernet is', 'SKILL'), (7, 'computer networking technologies', 'SKILL'), (12, 'Ethernet frames', 'SKILL'), (35, 'Ethernet standards', 'SKILL'), (39, 'Gigabit Ethernet defines', 'SKILL'), (57, 'network switches', 'SKILL'), (76, 'Ethernet standards', 'SKILL')]\n"
     ]
    }
   ],
   "source": [
    "print(f\"spans: {[(e.start, e.text, e.label_) for e in doc5.ents]}\")"
   ]
  },
  {
   "cell_type": "code",
   "execution_count": 33,
   "metadata": {},
   "outputs": [
    {
     "name": "stdout",
     "output_type": "stream",
     "text": [
      "Gigabit Ethernet is SKILL\n",
      "computer networking technologies SKILL\n",
      "Ethernet frames SKILL\n",
      "Ethernet standards SKILL\n",
      "Gigabit Ethernet defines SKILL\n",
      "network switches SKILL\n",
      "Ethernet standards SKILL\n"
     ]
    }
   ],
   "source": [
    "for e in doc5.ents:\n",
    "     print(e, e.label_)"
   ]
  },
  {
   "cell_type": "code",
   "execution_count": 34,
   "metadata": {},
   "outputs": [],
   "source": [
    "for e in doc5._.rel.items():\n",
    "     if e[1]['KNOWS'] > 0.5:\n",
    "          print(e)"
   ]
  },
  {
   "cell_type": "code",
   "execution_count": 25,
   "metadata": {},
   "outputs": [
    {
     "name": "stdout",
     "output_type": "stream",
     "text": [
      "spans: [(10, 'Windows,', 'SKILL'), (17, 'Language Infrastructure', 'OCC'), (34, 'security. There are', 'SKILL'), (73, 'CIL,', 'OCC'), (82, 'language,', 'SKILL'), (88, 'machine language', 'SKILL'), (115, 'Language Runtime (CLR).', 'OCC')]\n"
     ]
    }
   ],
   "source": [
    "print(f\"spans: {[(e.start, e.text, e.label_) for e in doc4.ents]}\")"
   ]
  },
  {
   "cell_type": "code",
   "execution_count": 29,
   "metadata": {},
   "outputs": [],
   "source": [
    "from spacy.training.example import Example\n",
    "\n",
    "pred = Doc(\n",
    "    nlp.vocab,\n",
    "    words=[t.text for t in doc4],\n",
    "    spaces=[t.whitespace_ for t in doc4],\n",
    ")\n",
    "pred.ents = doc4.ents\n",
    "for name, proc in nlp.pipeline:\n",
    "    pred = proc(pred)\n",
    "\n",
    "example = Example(pred, doc4)"
   ]
  },
  {
   "cell_type": "code",
   "execution_count": 48,
   "metadata": {},
   "outputs": [
    {
     "name": "stdout",
     "output_type": "stream",
     "text": [
      "0.031369336\n",
      "0.011399968\n"
     ]
    }
   ],
   "source": [
    "# print(doc3.ents)\n",
    "# doc4._.rel\n",
    "\n",
    "# for value, rel_dict in doc4._.rel.items():\n",
    "#      print(rel_dict)\n",
    "\n",
    "for (k, v) in doc4._.rel[(10, 17)].items():\n",
    "     print(v)"
   ]
  },
  {
   "cell_type": "code",
   "execution_count": 64,
   "metadata": {},
   "outputs": [],
   "source": [
    "# Let's go a step back an add manual instances to doc1 & doc2\n",
    "# doc1.ents = [\n",
    "#     Span(doc1, 1, 4, label=\"OCCUPATION\"),\n",
    "#     Span(doc1, 5, 7, label=\"SKILL\"),\n",
    "#     Span(doc1, 8, 10, label=\"SKILL\"),\n",
    "#     Span(doc1, 15, 17, label=\"SKILL\"),\n",
    "# ]\n",
    "\n",
    "# doc2.ents = [\n",
    "#     Span(doc1, 1, 5, label=\"OCCUPATION\"),\n",
    "#     Span(doc1, 12, 14, label=\"SKILL\"),\n",
    "#     # Span(doc1, 28, 30, label=\"SKILL\"),\n",
    "#     # Span(doc1, 43, 45, label=\"SKILL\"),\n",
    "# ]"
   ]
  },
  {
   "cell_type": "code",
   "execution_count": 68,
   "metadata": {},
   "outputs": [],
   "source": [
    "scores = relation_extractor.predict([doc1])"
   ]
  },
  {
   "cell_type": "code",
   "execution_count": 69,
   "metadata": {},
   "outputs": [
    {
     "data": {
      "text/plain": [
       "array([[9.98137116e-01, 1.13621921e-08],\n",
       "       [9.97541308e-01, 9.77544889e-09],\n",
       "       [9.98295128e-01, 1.47525085e-08],\n",
       "       [4.52181703e-05, 3.71496078e-08],\n",
       "       [2.50027166e-03, 2.90826185e-09],\n",
       "       [3.60449357e-03, 4.38897052e-09],\n",
       "       [3.86377360e-05, 4.11782395e-08],\n",
       "       [2.82057608e-03, 3.74691034e-09],\n",
       "       [3.08154104e-03, 4.86491647e-09],\n",
       "       [3.50350128e-05, 4.80279638e-08],\n",
       "       [2.55823880e-03, 4.37018377e-09],\n",
       "       [1.93827704e-03, 3.75987552e-09]], dtype=float32)"
      ]
     },
     "execution_count": 69,
     "metadata": {},
     "output_type": "execute_result"
    }
   ],
   "source": [
    "scores"
   ]
  },
  {
   "cell_type": "code",
   "execution_count": 76,
   "metadata": {},
   "outputs": [
    {
     "data": {
      "text/plain": [
       "{(1, 5): {'KNOWS': 0.9981371, 'HAS': 1.1362192e-08}}"
      ]
     },
     "execution_count": 76,
     "metadata": {},
     "output_type": "execute_result"
    }
   ],
   "source": [
    "# get_instances = relation_extractor.model.attrs[\"get_instances\"]\n",
    "\n",
    "# for doc in docs:\n",
    "# for (e1, e2) in get_instances(doc1):\n",
    "#      print(e1.start, \", \", e2.start)\n",
    "# relation_extractor.set_annotations([doc1], scores)\n",
    "doc1._.rel"
   ]
  },
  {
   "cell_type": "code",
   "execution_count": 53,
   "metadata": {},
   "outputs": [
    {
     "data": {
      "text/plain": [
       "1"
      ]
     },
     "execution_count": 53,
     "metadata": {},
     "output_type": "execute_result"
    }
   ],
   "source": [
    "relation_extractor.add_label(\"OCCUPATION\")"
   ]
  },
  {
   "cell_type": "code",
   "execution_count": 4,
   "metadata": {},
   "outputs": [
    {
     "name": "stdout",
     "output_type": "stream",
     "text": [
      "['The Associate Security Analyst supports security systems, operations administration, monitoring and maintenance of cyber security systems and applications. He/She monitors security alerts and events. He collects and documents information based on established practices and supports the preparation and publishing of security advisories. He assists with the analysis of security-related information and events, escalation of incidents for validation and remediation. He is required to be on standby with on-call availability with varied shifts including nights, weekends and holidays. He is familiar with cyber security standards, protocols and frameworks, and is required to act in accordance with the Cyber Security Act 2018. He is knowledgeable in using various cyber security tools and techniques to monitor and resolve incidents. The Associate Security Analyst is alert and vigilant in performing monitoring activities and is able to analyse and resolve security-related issues critically. He communicates clearly in his interactions with others and coordinates effectively with his team to perform security operations.', 'The Chief Information Security Officer develops and drives the vision for the information security function. He/She acts as the authority for the development and enforcement of organisation security strategy, standards and policies, and has ultimate responsibility for ensuring the protection of corporate information. He guides the design and continuous improvement of the IT security architecture and Cyber Risk Maturity Model that balances business needs with security risks. He advises the board and top executives on all security matters and sets directions for complying with regulatory inquiries, legal and compliance regulations, inspections and audits. He is an expert in cyber security compliance standards, protocols and frameworks, as well as the Cyber Security Act 2018. He is keeps abreast of cyber-related applications and hardware technologies and services, and is constantly on the look-out for new technologies that may be leveraged on to enhance work processes, or which may pose as potential threats. The Chief Information Security Officer is an inspirational and influential leader, who displays sound judgement and decisiveness in ensuring that corporate information is well protected and secured. He is strategic in his approach toward resource management and capability development among his teams.', \"The Cyber Risk Analyst conducts cyber risk assessment in support of technology initiatives to help identify IT related risk and determines appropriate controls to mitigate risks. He/She monitors, tracks and manages risk mitigations and exceptions to ensure cyber security standards and policies are established. He applies a defined set of analytical or scientific methods and works independently. He is also responsible for documentation of cyber risk assessment reports. He is familiar with cyber security standards, protocols and frameworks, and acts in accordance with the Cyber Security Act 2018. He is knowledgeable in using various cyber security monitoring and analysis tools and techniques depending on the organisation's needs and requirements. The Cyber Risk Analyst is vigilant and systematic in identifying cyber risks and enjoys analysing and investigating such issues. He is a strong team player, and communicates well both verbally and in writing.\", \"The Cyber Risk Manager guides the assessment of information and cyber risks associated with technology initiatives and provides recommendations on control requirements by risk policy and standards. He/She manages and coordinates responses to regulatory inquiries, inspections, audits and ensures cyber security standards and policies are established and implemented. He oversees the development of reports and implements policies and standards. He manages employees and is held accountable for the performance and results of a team. He provides guidance on security measures and protocols to stakeholders. He is familiar with cyber security standards, protocols and frameworks, and ensures the organisations compliance to the Cyber Security Act 2018. He is knowledgeable in using various cyber security monitoring and analysis tools and techniques depending on the organisation's needs and requirements. He also has expertise in cyber risk mitigation strategies and protocols. The Cyber Risk Manager has a sharp, analytical mind and is able to anticipate problems and risks to mitigate them ahead of time. He is an excellent communicator who works well with others and promotes a cooperative working environment and relationships within and beyond his team.\", 'The Forensics Investigation Manager plans and oversees the investigation processes and protocols after a cyber-threat or incident. He/She is responsible to ensure that the data is collected and analysed properly. He is also responsible for developing a forensics investigation strategy and overseeing the forensics investigations to ensure the threat is classified and future actions are recommended to the affected stakeholders. He is familiar with different types of threats, cyber security standards, protocols and frameworks, and ensures the organisations compliance with the Cyber Security Act 2018. He is knowledgeable of hardware and software applications to analyse threat data from various sources. The Forensics Investigation Manager is diligent and watchful in the investigation activities. He is also a confident leader who develops plans and solutions to address security incidents, and has a passion for engaging and developing others in his team.']\n"
     ]
    }
   ],
   "source": [
    "# Load the jsonl data to predict\n",
    "data = srsly.read_jsonl(\"./golden.jsonl\")\n",
    "data_instances = [eg[\"text\"] for eg in data]\n",
    "print(data_instances[:5])"
   ]
  },
  {
   "cell_type": "code",
   "execution_count": 9,
   "metadata": {},
   "outputs": [
    {
     "name": "stdout",
     "output_type": "stream",
     "text": [
      "Added  138  documents\n"
     ]
    }
   ],
   "source": [
    "# Represent data via DocBin [list of docs]\n",
    "db = DocBin()\n",
    "for text in data_instances:\n",
    "     doc = nlp.make_doc(text)\n",
    "     db.add(doc)\n",
    "\n",
    "print(\"Added \", len(db), \" documents\")\n",
    "\n",
    "db.to_disk(\"predict.spacy\")"
   ]
  },
  {
   "cell_type": "code",
   "execution_count": 19,
   "metadata": {},
   "outputs": [],
   "source": [
    "# Load data into memory\n",
    "doc_bin = DocBin(store_user_data=True).from_disk('./predict.spacy')\n",
    "# docs = doc_bin.get_docs(nlp.vocab)\n",
    "docs = db.get_docs(nlp.vocab)"
   ]
  },
  {
   "cell_type": "code",
   "execution_count": 20,
   "metadata": {},
   "outputs": [
    {
     "name": "stdout",
     "output_type": "stream",
     "text": [
      "()\n",
      "()\n",
      "()\n",
      "()\n",
      "()\n",
      "()\n",
      "()\n",
      "()\n",
      "()\n",
      "()\n",
      "()\n",
      "()\n",
      "()\n",
      "()\n",
      "()\n",
      "()\n",
      "()\n",
      "()\n",
      "()\n",
      "()\n",
      "()\n",
      "()\n",
      "()\n",
      "()\n",
      "()\n",
      "()\n",
      "()\n",
      "()\n",
      "()\n",
      "()\n",
      "()\n",
      "()\n",
      "()\n",
      "()\n",
      "()\n",
      "()\n",
      "()\n",
      "()\n",
      "()\n",
      "()\n",
      "()\n",
      "()\n",
      "()\n",
      "()\n",
      "()\n",
      "()\n",
      "()\n",
      "()\n",
      "()\n",
      "()\n",
      "()\n",
      "()\n",
      "()\n",
      "()\n",
      "()\n",
      "()\n",
      "()\n",
      "()\n",
      "()\n",
      "()\n",
      "()\n",
      "()\n",
      "()\n",
      "()\n",
      "()\n",
      "()\n",
      "()\n",
      "()\n",
      "()\n",
      "()\n",
      "()\n",
      "()\n",
      "()\n",
      "()\n",
      "()\n",
      "()\n",
      "()\n",
      "()\n",
      "()\n",
      "()\n",
      "()\n",
      "()\n",
      "()\n",
      "()\n",
      "()\n",
      "()\n",
      "()\n",
      "()\n",
      "()\n",
      "()\n",
      "()\n",
      "()\n",
      "()\n",
      "()\n",
      "()\n",
      "()\n",
      "()\n",
      "()\n",
      "()\n",
      "()\n",
      "()\n",
      "()\n",
      "()\n",
      "()\n",
      "()\n",
      "()\n",
      "()\n",
      "()\n",
      "()\n",
      "()\n",
      "()\n",
      "()\n",
      "()\n",
      "()\n",
      "()\n",
      "()\n",
      "()\n",
      "()\n",
      "()\n",
      "()\n",
      "()\n",
      "()\n",
      "()\n",
      "()\n",
      "()\n",
      "()\n",
      "()\n",
      "()\n",
      "()\n",
      "()\n",
      "()\n",
      "()\n",
      "()\n",
      "()\n",
      "()\n",
      "()\n",
      "()\n",
      "()\n"
     ]
    }
   ],
   "source": [
    "for doc in docs:\n",
    "     print(doc.ents)"
   ]
  },
  {
   "cell_type": "code",
   "execution_count": 17,
   "metadata": {},
   "outputs": [],
   "source": [
    "def _score_and_format(examples, thresholds):\n",
    "    for threshold in thresholds:\n",
    "        r = score_relations(examples, threshold)\n",
    "        results = {k: \"{:.2f}\".format(v * 100) for k, v in r.items()}\n",
    "        print(f\"threshold {'{:.2f}'.format(threshold)} \\t {results}\")"
   ]
  },
  {
   "cell_type": "code",
   "execution_count": null,
   "metadata": {},
   "outputs": [],
   "source": [
    "# Make predictions for entities\n",
    "examples = []\n",
    "random_examples = []\n",
    "for gold in docs:\n",
    "    pred = Doc(\n",
    "        nlp.vocab,\n",
    "        words=[t.text for t in gold],\n",
    "        spaces=[t.whitespace_ for t in gold],\n",
    "    )\n",
    "    pred.ents = gold.ents\n",
    "\n",
    "    for name, proc in nlp.pipeline:\n",
    "        pred = proc(pred)\n",
    "    examples.append(Example(pred, gold))\n",
    "\n",
    "    relation_extractor = nlp.get_pipe(\"relation_extractor\")\n",
    "    get_instances = relation_extractor.model.attrs[\"get_instances\"]\n",
    "    for (e1, e2) in get_instances(pred):\n",
    "        offset = (e1.start, e2.start)\n",
    "        if offset not in pred._.rel:\n",
    "            pred._.rel[offset] = {}\n",
    "        for label in relation_extractor.labels:\n",
    "            pred._.rel[offset][label] = random.uniform(0, 1)\n",
    "    random_examples.append(Example(pred, gold))"
   ]
  },
  {
   "cell_type": "code",
   "execution_count": null,
   "metadata": {},
   "outputs": [],
   "source": []
  },
  {
   "cell_type": "code",
   "execution_count": null,
   "metadata": {},
   "outputs": [],
   "source": []
  },
  {
   "cell_type": "code",
   "execution_count": null,
   "metadata": {},
   "outputs": [],
   "source": []
  },
  {
   "cell_type": "code",
   "execution_count": null,
   "metadata": {},
   "outputs": [],
   "source": []
  },
  {
   "cell_type": "code",
   "execution_count": null,
   "metadata": {},
   "outputs": [],
   "source": []
  },
  {
   "cell_type": "code",
   "execution_count": 3,
   "metadata": {},
   "outputs": [
    {
     "name": "stdout",
     "output_type": "stream",
     "text": [
      "Who is Shaka Khan? {(7, 17, 'PERSON')}\n",
      "I like London and Berlin. {(18, 24, 'LOC'), (7, 13, 'LOC')}\n",
      "{'token_acc': 1.0, 'token_p': 1.0, 'token_r': 1.0, 'token_f': 1.0, 'sents_p': None, 'sents_r': None, 'sents_f': None, 'tag_acc': None, 'pos_acc': None, 'morph_acc': None, 'morph_micro_p': None, 'morph_micro_r': None, 'morph_micro_f': None, 'morph_per_feat': None, 'dep_uas': None, 'dep_las': None, 'dep_las_per_type': None, 'ents_p': None, 'ents_r': None, 'ents_f': None, 'ents_per_type': None, 'cats_score': 0.0, 'cats_score_desc': 'macro F', 'cats_micro_p': 0.0, 'cats_micro_r': 0.0, 'cats_micro_f': 0.0, 'cats_macro_p': 0.0, 'cats_macro_r': 0.0, 'cats_macro_f': 0.0, 'cats_macro_auc': 0.0, 'cats_f_per_type': {}, 'cats_auc_per_type': {}}\n"
     ]
    }
   ],
   "source": [
    "import spacy\n",
    "from spacy.scorer import Scorer\n",
    "from spacy.tokens import Doc\n",
    "from spacy.training.example import Example\n",
    "\n",
    "examples = [\n",
    "    ('Who is Shaka Khan?',\n",
    "     {(7, 17, 'PERSON')}),\n",
    "    ('I like London and Berlin.',\n",
    "     {(7, 13, 'LOC'), (18, 24, 'LOC')})\n",
    "]\n",
    "\n",
    "def evaluate(ner_model, examples):\n",
    "    scorer = Scorer()\n",
    "    example = []\n",
    "    for input_, annot in examples:\n",
    "        pred = ner_model(input_)\n",
    "        print(pred,annot)\n",
    "        temp = Example.from_dict(pred, dict.fromkeys(annot))\n",
    "        example.append(temp)\n",
    "    scores = scorer.score(example)\n",
    "    return scores\n",
    "\n",
    "ner_model = spacy.load('en_core_web_md') # for spaCy's pretrained use 'en_core_web_sm'\n",
    "results = evaluate(ner_model, examples)\n",
    "print(results)"
   ]
  },
  {
   "cell_type": "code",
   "execution_count": null,
   "metadata": {},
   "outputs": [],
   "source": []
  }
 ],
 "metadata": {
  "kernelspec": {
   "display_name": "Python 3",
   "language": "python",
   "name": "python3"
  },
  "language_info": {
   "codemirror_mode": {
    "name": "ipython",
    "version": 3
   },
   "file_extension": ".py",
   "mimetype": "text/x-python",
   "name": "python",
   "nbconvert_exporter": "python",
   "pygments_lexer": "ipython3",
   "version": "3.11.0"
  }
 },
 "nbformat": 4,
 "nbformat_minor": 2
}
