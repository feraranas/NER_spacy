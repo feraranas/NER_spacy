{
 "cells": [
  {
   "cell_type": "markdown",
   "metadata": {},
   "source": [
    "```\n",
    "- Lo que intento hacer en este script es aislar la evaluación del Entity Recognizer.\n",
    "- Con la función Scorer(), puedo pasarle un Example[pred, gold] y evalua qué tan bien reconoce entidades.\n",
    "- Es algo redundante ya que al momento de entrenar el modelo, cuando le doy un pipeline 'ner' ya lo hace por mi, y puedo ver dicha evaluación por epoch.\n",
    "- Sin embargo, al intentar usar evaluate.py, vemos \n",
    "     - 'rel_micro_p'\n",
    "     - 'rel_micro_r'\n",
    "     - 'rel_micro_f'\n",
    "     pero no veo algo para 'ner', de ahí mi motivación a desarrollar el presente script.\n",
    "- Es decir, me falta un evaluador para el 'test_file'.\n",
    "```\n"
   ]
  },
  {
   "cell_type": "code",
   "execution_count": null,
   "metadata": {},
   "outputs": [],
   "source": [
    "import spacy\n",
    "from spacy.scorer import Scorer\n",
    "from spacy.tokens import Doc, DocBin\n",
    "from spacy.training.example import Example\n",
    "import srsly"
   ]
  },
  {
   "cell_type": "code",
   "execution_count": 2,
   "metadata": {},
   "outputs": [],
   "source": [
    "# make the factory work\n",
    "from rel_pipe import make_relation_extractor, score_relations\n",
    "\n",
    "# make the config work\n",
    "from rel_model import create_relation_model, create_classification_layer, create_instances, create_tensors"
   ]
  },
  {
   "cell_type": "code",
   "execution_count": 6,
   "metadata": {},
   "outputs": [],
   "source": [
    "# Load the pre-trained model\n",
    "nlp = spacy.load(\"../training/model-best\")\n",
    "scorer = Scorer(nlp)"
   ]
  },
  {
   "cell_type": "code",
   "execution_count": 7,
   "metadata": {},
   "outputs": [],
   "source": [
    "# 1. Necesito tener un Doc con las Gold entities.\n",
    "# 2. Necesito crear un Doc con las predicción entities.\n",
    "# 3. Ambos Doc's los agrego a un Example.\n",
    "# 4. Calculo el score.\n",
    "\n",
    "example = []\n",
    "data = srsly.read_jsonl(\"../application/golden.jsonl\")\n",
    "docs = [eg[\"text\"] for eg in data]"
   ]
  },
  {
   "cell_type": "code",
   "execution_count": 8,
   "metadata": {},
   "outputs": [],
   "source": [
    "doc = docs[0]"
   ]
  },
  {
   "cell_type": "code",
   "execution_count": 9,
   "metadata": {},
   "outputs": [
    {
     "data": {
      "text/plain": [
       "'The Associate Security Analyst supports security systems, operations administration, monitoring and maintenance of cyber security systems and applications. He/She monitors security alerts and events. He collects and documents information based on established practices and supports the preparation and publishing of security advisories. He assists with the analysis of security-related information and events, escalation of incidents for validation and remediation. He is required to be on standby with on-call availability with varied shifts including nights, weekends and holidays. He is familiar with cyber security standards, protocols and frameworks, and is required to act in accordance with the Cyber Security Act 2018. He is knowledgeable in using various cyber security tools and techniques to monitor and resolve incidents. The Associate Security Analyst is alert and vigilant in performing monitoring activities and is able to analyse and resolve security-related issues critically. He communicates clearly in his interactions with others and coordinates effectively with his team to perform security operations.'"
      ]
     },
     "execution_count": 9,
     "metadata": {},
     "output_type": "execute_result"
    }
   ],
   "source": [
    "doc"
   ]
  },
  {
   "cell_type": "code",
   "execution_count": 11,
   "metadata": {},
   "outputs": [],
   "source": [
    "pred = nlp(doc)"
   ]
  },
  {
   "cell_type": "code",
   "execution_count": null,
   "metadata": {},
   "outputs": [],
   "source": []
  },
  {
   "cell_type": "code",
   "execution_count": 18,
   "metadata": {},
   "outputs": [
    {
     "ename": "AttributeError",
     "evalue": "'str' object has no attribute 'text'",
     "output_type": "error",
     "traceback": [
      "\u001b[0;31m---------------------------------------------------------------------------\u001b[0m",
      "\u001b[0;31mAttributeError\u001b[0m                            Traceback (most recent call last)",
      "\u001b[1;32m/Users/fernankiwi/Documents/NER_spacy/scripts/evaluate_ner.ipynb Cell 8\u001b[0m line \u001b[0;36m3\n\u001b[1;32m      <a href='vscode-notebook-cell:/Users/fernankiwi/Documents/NER_spacy/scripts/evaluate_ner.ipynb#X12sZmlsZQ%3D%3D?line=0'>1</a>\u001b[0m pred2 \u001b[39m=\u001b[39m Doc(\n\u001b[1;32m      <a href='vscode-notebook-cell:/Users/fernankiwi/Documents/NER_spacy/scripts/evaluate_ner.ipynb#X12sZmlsZQ%3D%3D?line=1'>2</a>\u001b[0m      nlp\u001b[39m.\u001b[39mvocab,\n\u001b[0;32m----> <a href='vscode-notebook-cell:/Users/fernankiwi/Documents/NER_spacy/scripts/evaluate_ner.ipynb#X12sZmlsZQ%3D%3D?line=2'>3</a>\u001b[0m      words \u001b[39m=\u001b[39m [t\u001b[39m.\u001b[39;49mtext \u001b[39mfor\u001b[39;49;00m t \u001b[39min\u001b[39;49;00m doc],\n\u001b[1;32m      <a href='vscode-notebook-cell:/Users/fernankiwi/Documents/NER_spacy/scripts/evaluate_ner.ipynb#X12sZmlsZQ%3D%3D?line=3'>4</a>\u001b[0m      spaces \u001b[39m=\u001b[39m [t\u001b[39m.\u001b[39mwhitespace_ \u001b[39mfor\u001b[39;00m t \u001b[39min\u001b[39;00m doc]\n\u001b[1;32m      <a href='vscode-notebook-cell:/Users/fernankiwi/Documents/NER_spacy/scripts/evaluate_ner.ipynb#X12sZmlsZQ%3D%3D?line=4'>5</a>\u001b[0m )\n",
      "\u001b[1;32m/Users/fernankiwi/Documents/NER_spacy/scripts/evaluate_ner.ipynb Cell 8\u001b[0m line \u001b[0;36m3\n\u001b[1;32m      <a href='vscode-notebook-cell:/Users/fernankiwi/Documents/NER_spacy/scripts/evaluate_ner.ipynb#X12sZmlsZQ%3D%3D?line=0'>1</a>\u001b[0m pred2 \u001b[39m=\u001b[39m Doc(\n\u001b[1;32m      <a href='vscode-notebook-cell:/Users/fernankiwi/Documents/NER_spacy/scripts/evaluate_ner.ipynb#X12sZmlsZQ%3D%3D?line=1'>2</a>\u001b[0m      nlp\u001b[39m.\u001b[39mvocab,\n\u001b[0;32m----> <a href='vscode-notebook-cell:/Users/fernankiwi/Documents/NER_spacy/scripts/evaluate_ner.ipynb#X12sZmlsZQ%3D%3D?line=2'>3</a>\u001b[0m      words \u001b[39m=\u001b[39m [t\u001b[39m.\u001b[39;49mtext \u001b[39mfor\u001b[39;00m t \u001b[39min\u001b[39;00m doc],\n\u001b[1;32m      <a href='vscode-notebook-cell:/Users/fernankiwi/Documents/NER_spacy/scripts/evaluate_ner.ipynb#X12sZmlsZQ%3D%3D?line=3'>4</a>\u001b[0m      spaces \u001b[39m=\u001b[39m [t\u001b[39m.\u001b[39mwhitespace_ \u001b[39mfor\u001b[39;00m t \u001b[39min\u001b[39;00m doc]\n\u001b[1;32m      <a href='vscode-notebook-cell:/Users/fernankiwi/Documents/NER_spacy/scripts/evaluate_ner.ipynb#X12sZmlsZQ%3D%3D?line=4'>5</a>\u001b[0m )\n",
      "\u001b[0;31mAttributeError\u001b[0m: 'str' object has no attribute 'text'"
     ]
    }
   ],
   "source": [
    "pred2 = Doc(\n",
    "     nlp.vocab,\n",
    "     words = [t.text for t in doc],\n",
    "     spaces = [t.whitespace_ for t in doc]\n",
    ")"
   ]
  },
  {
   "cell_type": "code",
   "execution_count": null,
   "metadata": {},
   "outputs": [],
   "source": []
  }
 ],
 "metadata": {
  "kernelspec": {
   "display_name": "Python 3",
   "language": "python",
   "name": "python3"
  },
  "language_info": {
   "codemirror_mode": {
    "name": "ipython",
    "version": 3
   },
   "file_extension": ".py",
   "mimetype": "text/x-python",
   "name": "python",
   "nbconvert_exporter": "python",
   "pygments_lexer": "ipython3",
   "version": "3.11.0"
  }
 },
 "nbformat": 4,
 "nbformat_minor": 2
}
